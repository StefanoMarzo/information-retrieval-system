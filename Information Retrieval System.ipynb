{
 "cells": [
  {
   "cell_type": "markdown",
   "id": "2cb534a5",
   "metadata": {},
   "source": [
    "<h2>Indexing the document collection</h2>"
   ]
  },
  {
   "cell_type": "markdown",
   "id": "453a7cce",
   "metadata": {},
   "source": [
    "<h3>Settings & utilities</h3>"
   ]
  },
  {
   "cell_type": "code",
   "execution_count": 1,
   "id": "7a21f59f",
   "metadata": {},
   "outputs": [],
   "source": [
    "#imports\n",
    "import xml.etree.ElementTree as ET\n",
    "import os\n",
    "import string\n",
    "import numpy as np\n",
    "from matplotlib import pyplot as plt\n",
    "import math\n",
    "import re    #RegEx\n",
    "import spacy #lemmatization\n",
    "from collections import OrderedDict\n",
    "import pickle #serialize object read/write files\n",
    "import time\n",
    "\n",
    "#Local import\n",
    "%run \"contraction.py\"\n",
    "\n",
    "#config\n",
    "%config InlineBackend.figure_format = 'retina'"
   ]
  },
  {
   "cell_type": "markdown",
   "id": "7e3eccdb",
   "metadata": {},
   "source": [
    "<h3>Utilities</h3>\n"
   ]
  },
  {
   "cell_type": "code",
   "execution_count": 2,
   "id": "478b65cf",
   "metadata": {},
   "outputs": [],
   "source": [
    "def divideList(list_in, percentage, seed):\n",
    "    if percentage < 0 or percentage > 1:\n",
    "        print('Percentage must be between 0 and 1')\n",
    "        return []\n",
    "    np.random.seed(seed)\n",
    "    idx = np.random.shuffle(list_in)\n",
    "    if percentage == 1:\n",
    "        return list_in\n",
    "    i = round(len(list_in) * percentage)\n",
    "    return list_in[0:i]\n",
    "\n",
    "#divideList([0,1,2,3,4,5,6,7,8,9], 0.7, 1)"
   ]
  },
  {
   "cell_type": "markdown",
   "id": "d1a2853e",
   "metadata": {},
   "source": [
    "<h3>Load stopwords</h2>"
   ]
  },
  {
   "cell_type": "code",
   "execution_count": 3,
   "id": "a0ef99c2",
   "metadata": {},
   "outputs": [],
   "source": [
    "#Load a stopword list NLTK\n",
    "gist_file = open(\"stopwords.txt\", \"r\")\n",
    "try:\n",
    "    content = gist_file.read()\n",
    "    stopwords = content.split(\",\")\n",
    "finally:\n",
    "    gist_file.close()"
   ]
  },
  {
   "cell_type": "markdown",
   "id": "e7fc7d6b",
   "metadata": {},
   "source": [
    "<h3>Load document collection</h3>"
   ]
  },
  {
   "cell_type": "code",
   "execution_count": 4,
   "id": "a68faeb8",
   "metadata": {},
   "outputs": [],
   "source": [
    "#path to the document collection\n",
    "collection_path = 'C:/Users/Stefano Marzo/Documents/DCU Master Dublin/05 Second semester modules/CA6005 Mechanics of search/01 Assignment/COLLECTION'\n",
    "\n",
    "def getDocumentList(path):\n",
    "    return os.listdir(path)\n",
    "    \n",
    "#generate document name list\n",
    "doc_list = getDocumentList(collection_path)"
   ]
  },
  {
   "cell_type": "markdown",
   "id": "d6f123fb",
   "metadata": {},
   "source": [
    "<h3>Load queries</h3>"
   ]
  },
  {
   "cell_type": "code",
   "execution_count": 5,
   "id": "0ab34d2e",
   "metadata": {},
   "outputs": [],
   "source": [
    "queries_path = 'C:/Users/Stefano Marzo/Documents/DCU Master Dublin/05 Second semester modules/CA6005 Mechanics of search/01 Assignment/topics'\n",
    "\n",
    "#generate query name list\n",
    "queries_list = getDocumentList(queries_path)"
   ]
  },
  {
   "cell_type": "markdown",
   "id": "b1a687b8",
   "metadata": {},
   "source": [
    "<h3>Experiments:</h3>\n",
    "<h4>Vector space model</h4>\n",
    "<p>Three cases:</p>\n",
    "<ul>\n",
    "    <li>Case 0: Documents are indexed on HEADLINE</li>\n",
    "    <li>Case 1: Documents are indexed on TEXT</li>\n",
    "    <li>Case 2: Documents are indexed on concatenation of HEADLINE and TEXT</li>\n",
    "</ul>"
   ]
  },
  {
   "cell_type": "markdown",
   "id": "1d7d5697",
   "metadata": {},
   "source": [
    "<h3>Classes for handle XML documents and the Document Collection</h3>"
   ]
  },
  {
   "cell_type": "code",
   "execution_count": 6,
   "id": "2aeac326",
   "metadata": {},
   "outputs": [],
   "source": [
    "#relevant document tags \n",
    "DOCID = 'DOCID'\n",
    "HEADLINE = 'HEADLINE'\n",
    "TEXT = 'TEXT'\n",
    "\n",
    "class XmlDoc:\n",
    "    def __init__(self, xml):\n",
    "        tree = ET.parse(xml)\n",
    "        root = tree.getroot()\n",
    "        for id in root.iter(DOCID):\n",
    "            self.id = id.text if id.text is not None else ''\n",
    "        for h in root.iter(HEADLINE):\n",
    "            self.headline = h.text if h.text is not None else ''\n",
    "        for t in root.iter(TEXT):\n",
    "            self.text = t.text if t.text is not None else ''\n",
    "        \n",
    "        #VSM\n",
    "        #self.processedText = processText(self.headline)                   #case: 0\n",
    "        #self.processedText = processText(self.text)                       #case: 1\n",
    "        #self.processedText = processText(self.text + ' ' + self.headline) #case: 2\n",
    "        \n",
    "        #BM25\n",
    "        self.processedText = processText(self.text + ' ' + self.headline) #case: 3\n",
    "        \n",
    "        #BM25F\n",
    "        #self.processedHeadline = processText(self.headline)               #case: 4\n",
    "        #self.processedText = processText(self.text)                       #case: 4\n",
    "        \n",
    "        #LM\n",
    "        \n",
    "        self.tfIndex = self.__getTF__()\n",
    "    \n",
    "    def getId(self):\n",
    "        return self.id\n",
    "    \n",
    "    def __getTF__(self):\n",
    "        #tf is on text, not headline\n",
    "        #tf has 2 possible implementations\n",
    "        #1. f/max_occurance of most frequent term\n",
    "        #2. f/number_different_terms or number_total_terms?\n",
    "        num_terms = len(self.processedText)\n",
    "        tfIndex = {}\n",
    "        for term in self.processedText:\n",
    "            if term not in tfIndex: #save some time\n",
    "                tfIndex[term] = self.processedText.count(term)/num_terms\n",
    "        return tfIndex\n",
    "\n",
    "class DocumentCollection:\n",
    "    def __init__(self, path, doc_list, fileName='document-collection.dictionary'):\n",
    "        self.__name__ = 'Document Collection'\n",
    "        \n",
    "        #List of XmlDoc object\n",
    "        self.docs = {}\n",
    "        for d in doc_list:\n",
    "            xmlDocument = XmlDoc(path + '/' + d)\n",
    "            self.docs[xmlDocument.id] = xmlDocument\n",
    "        \n",
    "        #Inverted index\n",
    "        self.inverted_index = {}\n",
    "        for id in self.docs.keys():\n",
    "            for term in self.docs[id].processedText:\n",
    "                if term in self.inverted_index:\n",
    "                    self.inverted_index[term].add(id)\n",
    "                else: self.inverted_index[term] = {id}\n",
    "        \n",
    "        #Table of IDF\n",
    "        self.idf = {}\n",
    "        for term in self.inverted_index.keys():\n",
    "            self.idf[term] = np.log(len(self.docs) / len(self.inverted_index[term]))\n",
    "            \n",
    "        #Average document length\n",
    "        self.avgdl = np.mean([len(item.processedText) for k, item in self.docs.items()])\n",
    "        \n",
    "        with open(fileName, 'wb') as dictionary_file:\n",
    "            pickle.dump(self, dictionary_file)\n",
    "            \n",
    "    \n",
    "    def getRelevance(self, documentID, term):\n",
    "        try:\n",
    "            return self.docs[documentID].tfIndex[term] * self.idf[term]\n",
    "        except: \n",
    "            return 0\n"
   ]
  },
  {
   "cell_type": "markdown",
   "id": "3fcda5e8",
   "metadata": {},
   "source": [
    "<h3>Classes for handle XML queries and the Query Collection</h3>"
   ]
  },
  {
   "cell_type": "code",
   "execution_count": 7,
   "id": "41a6565a",
   "metadata": {},
   "outputs": [],
   "source": [
    "#relevant document tags \n",
    "QUERYID = 'QUERYID'\n",
    "TITLE = 'TITLE'\n",
    "DESC = 'DESC'\n",
    "\n",
    "class XmlQuery:\n",
    "    def __init__(self, xml):\n",
    "        tree = ET.parse(xml)\n",
    "        root = tree.getroot()\n",
    "        for id in root.iter(QUERYID):\n",
    "            self.id = id.text\n",
    "        for h in root.iter(TITLE):\n",
    "            self.title = h.text\n",
    "        for t in root.iter(DESC):\n",
    "            self.desc = t.text \n",
    "        self.processedText = processText(self.title)\n",
    "        self.tfIndex = self.__getTF__()\n",
    "        \n",
    "    def __getTF__(self):\n",
    "        #tf is on text, not headline\n",
    "        #tf has 2 possible implementations\n",
    "        #1. f/max_occurance of most frequent term\n",
    "        #2. f/number_different_terms or number_total_terms?\n",
    "        num_terms = len(self.processedText)\n",
    "        tfIndex = {}\n",
    "        for term in self.processedText:\n",
    "            if term not in tfIndex: #save some time\n",
    "                tfIndex[term] = self.processedText.count(term)/num_terms\n",
    "        return tfIndex\n",
    "\n",
    "class QueryCollection:\n",
    "    def __init__(self, path, query_list, fileName='query-collection.dictionary'):\n",
    "        #List of XmlDoc object\n",
    "        self.queries = {}\n",
    "        for d in query_list:\n",
    "            xmlQuery = XmlQuery(path + '/' + d)\n",
    "            self.queries[xmlQuery.id] = xmlQuery\n",
    "        \n",
    "        #Inverted index\n",
    "        self.inverted_index = {}\n",
    "        for id in self.queries.keys():\n",
    "            for term in self.queries[id].processedText:\n",
    "                if term in self.inverted_index:\n",
    "                    self.inverted_index[term].add(id)\n",
    "                else: self.inverted_index[term] = {id}\n",
    "        \n",
    "        #Table of IDF\n",
    "        self.idf = {}\n",
    "        for term in self.inverted_index.keys():\n",
    "            self.idf[term] = np.log(len(self.queries) / len(self.inverted_index[term]))\n",
    "        \n",
    "        with open(fileName, 'wb') as dictionary_file:\n",
    "            pickle.dump(self, dictionary_file)\n",
    "            \n",
    "    \n",
    "    def getRelevance(self, queryID, term):\n",
    "        try:\n",
    "            return self.queries[queryID].tfIndex[term] * self.idf[term]\n",
    "        except: \n",
    "            return 0\n",
    "    \n",
    "    \n",
    "            \n",
    "#xmlq = XmlQuery(queries_path + '/' + queries_list[0])\n",
    "#xmlq.title"
   ]
  },
  {
   "cell_type": "markdown",
   "id": "636f24fe",
   "metadata": {},
   "source": [
    "<h2>Processing text</h2>"
   ]
  },
  {
   "cell_type": "code",
   "execution_count": 8,
   "id": "55e7c11c",
   "metadata": {},
   "outputs": [],
   "source": [
    "#Process text to meet the IR requirements\n",
    "use_lemmatization = True\n",
    "\n",
    "# Regular expression for finding contractions\n",
    "contractions_re=re.compile('(%s)' % '|'.join(contractions_dict.keys()))\n",
    "\n",
    "# Function for expanding contractions\n",
    "def expand_contractions(text,contractions_dict=contractions_dict):\n",
    "    def replace(match):\n",
    "        return contractions_dict[match.group(0)]\n",
    "    return contractions_re.sub(replace, text)\n",
    "\n",
    "# Lemmatization\n",
    "# https://www.analyticsvidhya.com/blog/2019/08\n",
    "#/how-to-remove-stopwords-text-normalization-nltk-spacy-gensim-python\n",
    "#/?utm_source=blog&utm_medium=information-retrieval-using-word2vec-based-vector-space-model\n",
    "nlp = spacy.load('en_core_web_sm',disable=['ner','parser'])\n",
    "nlp.max_length=5000000\n",
    "\n",
    "def lemmatize(x):\n",
    "    if use_lemmatization:\n",
    "        return ' '.join([token.lemma_ for token in list(nlp(x)) if (token.is_stop==False)])\n",
    "    else:\n",
    "        return x\n",
    "    \n",
    "#Returns a list of relevant terms\n",
    "def processText(text):\n",
    "    #remove punctuation and stopwords\n",
    "    #remove single punctuation characters, remove points (not separated from string), lower case all \n",
    "    if not isinstance(text, str) :\n",
    "        return []\n",
    "    #lower the text\n",
    "    text = text.lower()\n",
    "    #expand contractions\n",
    "    text = expand_contractions(text)\n",
    "    #lemmatize\n",
    "    text = lemmatize(text)\n",
    "    return list(filter(lambda el: el not in string.punctuation \n",
    "                       and el not in stopwords, \n",
    "                       text.translate(str.maketrans('', '', '.')).split()))\n",
    "\n",
    "#processText('asked processed figuring the foundation')\n",
    "#processText(\"O'reilly's\")\n",
    "#processText(\"I'm Stefano\")"
   ]
  },
  {
   "cell_type": "markdown",
   "id": "1164573a",
   "metadata": {},
   "source": [
    "<h2>Create Document Collection and Query Collection objects</h2>"
   ]
  },
  {
   "cell_type": "code",
   "execution_count": 9,
   "id": "f4dea647",
   "metadata": {},
   "outputs": [
    {
     "name": "stdout",
     "output_type": "stream",
     "text": [
      "Document Collection Computed in 2945.9824s\n",
      "Query Collection Computed in 2.6403s\n"
     ]
    }
   ],
   "source": [
    "recomputeAll = True\n",
    "#seed for random number\n",
    "seed = 1\n",
    "\n",
    "#divide the document collection (get pd% of documents)\n",
    "pd = 1\n",
    "doc_list = divideList(doc_list, pd, seed)\n",
    "\n",
    "#divide the query collection (get pq% of documents)\n",
    "pq = 1\n",
    "queries_list = divideList(queries_list, pq, seed)\n",
    "\n",
    "#Compute or read document collection\n",
    "computeDocumentCollection = False or recomputeAll\n",
    "documentCollectionFileName = 'document-collection.dictionary'\n",
    "\n",
    "#create a Document collection object\n",
    "if computeDocumentCollection or not os.path.isfile(documentCollectionFileName):\n",
    "    start = time.time()\n",
    "    document_collection = DocumentCollection(collection_path, doc_list, documentCollectionFileName)\n",
    "    end = time.time()\n",
    "    print('Document Collection Computed in ' + str(round(end - start, 4)) + 's')\n",
    "else:\n",
    "    start = time.time()\n",
    "    with open(documentCollectionFileName, 'rb') as dictionary_file:\n",
    "        document_collection = pickle.load(dictionary_file) \n",
    "    end = time.time()\n",
    "    print('Document Collection Loaded in ' + str(round(end - start, 4)) + 's')\n",
    "\n",
    "#Compute or read query collection\n",
    "computeQueryCollection = False or recomputeAll\n",
    "queryCollectionFileName = 'query-collection.dictionary'\n",
    "\n",
    "#create a Query collection object\n",
    "if computeQueryCollection or not os.path.isfile(queryCollectionFileName):\n",
    "    start = time.time()\n",
    "    query_collection = QueryCollection(queries_path, queries_list, queryCollectionFileName)\n",
    "    end = time.time()\n",
    "    print('Query Collection Computed in ' + str(round(end - start, 4)) + 's')\n",
    "else:\n",
    "    start = time.time()\n",
    "    with open(queryCollectionFileName, 'rb') as dictionary_file:\n",
    "        query_collection = pickle.load(dictionary_file) \n",
    "    end = time.time()\n",
    "    print('Query Collection Loaded in ' + str(round(end - start, 4)) + 's')\n",
    "\n",
    "#pointer to inverted index\n",
    "inverted_index = document_collection.inverted_index"
   ]
  },
  {
   "cell_type": "markdown",
   "id": "94a64676",
   "metadata": {},
   "source": [
    "<h2>Heaps' law</h2>\n",
    "<h2>$M = kT^b$</h2>\n",
    "<p>where:</p>\n",
    "<ul>\n",
    "    <li>$M$ is the document length </li>\n",
    "    <li>$T$ is the number of distinct terms, i.e. <i>Token</i> </li>\n",
    "    <li>$k$ is a parameter s.t. $10 \\leq k \\leq 100$ </li>\n",
    "    <li>$b$ is a parameter s.t. $0.4 \\leq b \\leq 0.6$ </li>\n",
    "</ul>"
   ]
  },
  {
   "cell_type": "code",
   "execution_count": 10,
   "id": "d09aeead",
   "metadata": {},
   "outputs": [],
   "source": [
    "k = 22\n",
    "b = .6\n",
    "\n",
    "#heap function\n",
    "def heaps(k,T,b):\n",
    "    return np.power(T, b) * k"
   ]
  },
  {
   "cell_type": "code",
   "execution_count": 11,
   "id": "ee6384ea",
   "metadata": {},
   "outputs": [],
   "source": [
    "#documents data (limit to L documents)\n",
    "L = 20 #500 #for final result\n",
    "word_list = []\n",
    "unique_words = []\n",
    "for doc in list(document_collection.docs.keys())[0:L]:\n",
    "    word_list += document_collection.docs[doc].processedText\n",
    "\n",
    "for i, w in enumerate(word_list):\n",
    "    unique_words += [len(set(word_list[0:i]))]"
   ]
  },
  {
   "cell_type": "code",
   "execution_count": 12,
   "id": "2a597901",
   "metadata": {},
   "outputs": [
    {
     "name": "stderr",
     "output_type": "stream",
     "text": [
      "The PostScript backend does not support transparency; partially transparent artists will be rendered opaque.\n",
      "The PostScript backend does not support transparency; partially transparent artists will be rendered opaque.\n"
     ]
    },
    {
     "data": {
      "image/png": "[encoded data removed]",
      "text/plain": [
       "<Figure size 432x288 with 1 Axes>"
      ]
     },
     "metadata": {
      "image/png": {
       "height": 347,
       "width": 492
      },
      "needs_background": "light"
     },
     "output_type": "display_data"
    }
   ],
   "source": [
    "#plot\n",
    "x = np.linspace(0, len(word_list), 100)\n",
    "\n",
    "fig = plt.figure(figsize=(6,4))\n",
    "ax = fig.add_axes([0,0,1,1])\n",
    "plt.plot(x, heaps(k, x, b), color='red', label='heap function')\n",
    "plt.plot(np.arange(len(unique_words)), unique_words, color='blue', label='computed')\n",
    "ax.set_xlabel('Unique words')\n",
    "ax.set_ylabel('Words count')\n",
    "ax.set_title('Heaps\\' law')\n",
    "plt.legend()\n",
    "fig.savefig('Report/imgs/heaps.eps', format='eps', bbox_inches='tight')\n",
    "plt.show()"
   ]
  },
  {
   "cell_type": "markdown",
   "id": "ea3caa0d",
   "metadata": {},
   "source": [
    "<h2>Zipf's law</h2>\n",
    "<h2>$f = \\frac{k}{r}$</h2>\n",
    "<p>where:</p>\n",
    "<ul>\n",
    "    <li>$f$ is the word frequency</li>\n",
    "    <li>$k$ is a parameter that change with the language (0.1 for english)</li>\n",
    "    <li>$r$ is the <i>rank</i> of the word</li>\n",
    "</ul>"
   ]
  },
  {
   "cell_type": "code",
   "execution_count": 13,
   "id": "8576e5ba",
   "metadata": {},
   "outputs": [],
   "source": [
    "#Zipf's formula\n",
    "kz = 1\n",
    "frequencies = []\n",
    "ranks = []\n",
    "tot_words = len(inverted_index)\n",
    "for word in inverted_index.keys():\n",
    "    frequencies += [len(inverted_index[word])]\n",
    "    ranks += [np.log(kz/frequencies[-1])]"
   ]
  },
  {
   "cell_type": "code",
   "execution_count": 14,
   "id": "e94eb42e",
   "metadata": {},
   "outputs": [
    {
     "data": {
      "image/png": "[encoded data removed]",
      "text/plain": [
       "<Figure size 432x288 with 1 Axes>"
      ]
     },
     "metadata": {
      "image/png": {
       "height": 347,
       "width": 492
      },
      "needs_background": "light"
     },
     "output_type": "display_data"
    }
   ],
   "source": [
    "#Plot\n",
    "fig = plt.figure(figsize=(6,4))\n",
    "ax = fig.add_axes([0,0,1,1])\n",
    "plt.scatter(ranks, frequencies, color='blue')\n",
    "ax.set_xlabel('log(Rank)')\n",
    "ax.set_ylabel('Frequency')\n",
    "ax.set_title('Zipf\\'s law')\n",
    "fig.savefig('Report/imgs/Zipf.eps', format='eps', bbox_inches='tight')\n",
    "plt.show()"
   ]
  },
  {
   "cell_type": "markdown",
   "id": "9a254c1b",
   "metadata": {},
   "source": [
    "<h2>Get most significant words</h2>\n",
    "<h3>Attempt #1: frequency density</h3>"
   ]
  },
  {
   "cell_type": "code",
   "execution_count": 15,
   "id": "f21a02ec",
   "metadata": {},
   "outputs": [
    {
     "data": {
      "text/plain": [
       "'\\nfor word in inverted_index.keys():\\n    if len(inverted_index[word]) > 300:\\n        print(word)\\n'"
      ]
     },
     "execution_count": 15,
     "metadata": {},
     "output_type": "execute_result"
    }
   ],
   "source": [
    "#try to get the most frequent terms in a significant way\n",
    "\n",
    "#Point density\n",
    "frequency_list = frequencies[:]\n",
    "frequency_list.sort()\n",
    "\n",
    "#radius = 2\n",
    "#precise but time expensive\n",
    "def getFrequencyDensity(frequency_list, radius):\n",
    "    frequency_density = []\n",
    "    for i in range(len(frequency_list)):\n",
    "        count = 0\n",
    "        lim_inf = frequency_list[i] - radius\n",
    "        lim_sup = frequency_list[i] + radius\n",
    "        j = i\n",
    "        while j >= 0 and frequency_list[j] >= lim_inf:\n",
    "            count += 1\n",
    "            j -= 1\n",
    "        j = i\n",
    "        while j < len(frequency_list) and frequency_list[j] <= lim_sup:\n",
    "            count += 1\n",
    "            j += 1\n",
    "        frequency_density += [count/(2*radius)]\n",
    "    return frequency_density\n",
    "\n",
    "#frequency_density = getFrequencyDensity(frequency_list, radius)\n",
    "\"\"\"\n",
    "for word in inverted_index.keys():\n",
    "    if len(inverted_index[word]) > 300:\n",
    "        print(word)\n",
    "\"\"\""
   ]
  },
  {
   "cell_type": "code",
   "execution_count": 16,
   "id": "050186e2",
   "metadata": {},
   "outputs": [
    {
     "data": {
      "text/plain": [
       "\"\\nfig = plt.figure()\\nax = fig.add_axes([0,0,1,1])\\nplt.scatter(np.arange(len(frequency_density)), frequency_density, color='blue')\\nax.set_xlabel('index')\\nax.set_ylabel('Frequency density')\\nax.set_title('Zipf's law')\\nplt.show()\\n\""
      ]
     },
     "execution_count": 16,
     "metadata": {},
     "output_type": "execute_result"
    }
   ],
   "source": [
    "#Plot the frequency density \n",
    "\"\"\"\n",
    "fig = plt.figure()\n",
    "ax = fig.add_axes([0,0,1,1])\n",
    "plt.scatter(np.arange(len(frequency_density)), frequency_density, color='blue')\n",
    "ax.set_xlabel('index')\n",
    "ax.set_ylabel('Frequency density')\n",
    "ax.set_title('Zipf\\'s law')\n",
    "plt.show()\n",
    "\"\"\""
   ]
  },
  {
   "cell_type": "markdown",
   "id": "10e171e0",
   "metadata": {},
   "source": [
    "<h2>Get most significant words</h2>\n",
    "<h3>Attempt #2: percentage</h3>"
   ]
  },
  {
   "cell_type": "code",
   "execution_count": 17,
   "id": "30c68c8f",
   "metadata": {},
   "outputs": [
    {
     "name": "stdout",
     "output_type": "stream",
     "text": [
      "people\n",
      "year\n",
      "time\n",
      "include\n",
      "day\n"
     ]
    }
   ],
   "source": [
    "#get the most x% frequent terms\n",
    "percentage = .00005\n",
    "\n",
    "def getHighestValue(data, percentage):\n",
    "    data_size = len(frequency_list)\n",
    "    i = data_size * percentage\n",
    "    return data[-round(i)]\n",
    "\n",
    "\n",
    "#len(frequency_list)\n",
    "def printMostFrequentTerms(inverted_index, frequency_list, percentage):\n",
    "    for word in inverted_index.keys():\n",
    "        if len(inverted_index[word]) > getHighestValue(frequency_list, percentage):\n",
    "            print(word)\n",
    "\n",
    "printMostFrequentTerms(inverted_index, frequency_list, percentage)"
   ]
  },
  {
   "cell_type": "code",
   "execution_count": 18,
   "id": "97c52737",
   "metadata": {},
   "outputs": [
    {
     "data": {
      "image/png": "[encoded data removed]",
      "text/plain": [
       "<Figure size 432x288 with 1 Axes>"
      ]
     },
     "metadata": {
      "image/png": {
       "height": 347,
       "width": 492
      },
      "needs_background": "light"
     },
     "output_type": "display_data"
    }
   ],
   "source": [
    "#plot the results\n",
    "fig = plt.figure(figsize=(6,4))\n",
    "ax = fig.add_axes([0,0,1,1])\n",
    "plt.scatter(ranks, frequencies, color='blue')\n",
    "plt.axhline(y = getHighestValue(frequency_list, percentage), color = 'r', linestyle = '-')\n",
    "ax.set_xlabel('log(Rank)')\n",
    "ax.set_ylabel('Frequency')\n",
    "ax.set_title('Zipf\\'s law')\n",
    "fig.savefig('Report/imgs/Zipf.eps', format='eps', bbox_inches='tight')\n",
    "plt.show()"
   ]
  },
  {
   "cell_type": "markdown",
   "id": "a20aa00d",
   "metadata": {},
   "source": [
    "<h2>Term frequency: $tf$</h2>\n",
    "<p>The occurencies of a term in a document divided by the total number of word in a document</p>\n",
    "<p>Normalized term frequency for a term $j$ in a document $i$</p>\n",
    "<h2>$tf_{ij} = \\frac{f_{ij}}{M}$</h2>\n",
    "<p>where $M$ is the number of different terms.</p>"
   ]
  },
  {
   "cell_type": "code",
   "execution_count": 19,
   "id": "d1d2a5d6",
   "metadata": {},
   "outputs": [],
   "source": [
    "#function\n",
    "def getTermFrequency(document):\n",
    "    doc = processText(readDocument(collection_path + '/' + document).text)\n",
    "    num_terms = len(doc)\n",
    "    tfIndex = {}\n",
    "    for term in doc:\n",
    "        tfIndex[term] = doc.count(term)/num_terms\n",
    "    return tfIndex\n",
    "#object\n",
    "#XmlDoc(collection_path + '/' + doc_list[0]).getTF()"
   ]
  },
  {
   "cell_type": "markdown",
   "id": "b53d081e",
   "metadata": {},
   "source": [
    "<h2>Inverse document frequency: $idf$</h2>\n",
    "<p>for a term $j$</p>\n",
    "<h2>$idf_{j} = log(\\frac{N}{df_j})$</h2>\n",
    "<p>where $N$ is the number of documents in the collection and $df_j$ is the number of documents that contain the term $j$.</p>"
   ]
  },
  {
   "cell_type": "code",
   "execution_count": 20,
   "id": "3b6b2ae9",
   "metadata": {},
   "outputs": [],
   "source": [
    "#Function\n",
    "def getInverseDocumentFrequency(inverted_index, N):\n",
    "    idf = {}\n",
    "    for term in inverted_index.keys():\n",
    "        idf[term] = np.log(N / len(inverted_index[term]))\n",
    "    return idf\n",
    "#getInverseDocumentFrequency(inverted_index, len(doc_list))\n",
    "\n",
    "#Class\n",
    "#document_collection.getIDF()"
   ]
  },
  {
   "cell_type": "markdown",
   "id": "1f918c3a",
   "metadata": {},
   "source": [
    "<h2>Balance exhaustivity $tf$ and specificity $idf$</h2>\n",
    "<p>Any term in the collection can be attributed to a level of relevance calculated as</p>\n",
    "<h2>$tf_{ij} \\times idf_{j}$</h2>"
   ]
  },
  {
   "cell_type": "code",
   "execution_count": 21,
   "id": "9c050b9e",
   "metadata": {},
   "outputs": [
    {
     "data": {
      "text/plain": [
       "0"
      ]
     },
     "execution_count": 21,
     "metadata": {},
     "output_type": "execute_result"
    }
   ],
   "source": [
    "document_collection.getRelevance(\n",
    "    document_collection.docs[list(document_collection.docs.keys())[0]].id, 'buckle')"
   ]
  },
  {
   "cell_type": "code",
   "execution_count": 22,
   "id": "cd5d4e6c",
   "metadata": {},
   "outputs": [],
   "source": [
    "#is istance of str, else []\n",
    "#lower\n",
    "#expand contractions\n",
    "#lemmatize\n",
    "#remove punctuation\n",
    "#remove stopwords\n",
    "#remove single points\n",
    "def getQueryVector(query):\n",
    "    q = processText(query.title)\n",
    "    qf = {}\n",
    "    for term in q:\n",
    "        if term not in qf:\n",
    "            qf[term] = 1\n",
    "        else:\n",
    "            qf[term] += 1\n",
    "    return qf\n",
    "\n",
    "\n",
    "def getRelatedDocument(document_collection, query):\n",
    "    s = set() #all document related with query\n",
    "    query = getQueryVector(query)\n",
    "    for term in query:\n",
    "        if term in document_collection.inverted_index:\n",
    "            s = s.union(set(document_collection.inverted_index[term]))\n",
    "    return s, query\n",
    "\n",
    "\n",
    "def getVectorSpace(document_collection, query):\n",
    "    docs, query = getRelatedDocument(document_collection, query)\n",
    "    space = {}\n",
    "    for d in docs:\n",
    "        space[d] = [document_collection.getRelevance(d, term) for term in query]\n",
    "    return space\n",
    "\n",
    "#getVectorSpace(document_collection, xmlq)\n",
    "#document_collection.inverted_index['kiesbauer']"
   ]
  },
  {
   "cell_type": "markdown",
   "id": "21feb291",
   "metadata": {},
   "source": [
    "<h2>Vector space model VSM</h2>"
   ]
  },
  {
   "cell_type": "code",
   "execution_count": 34,
   "id": "3a17c859",
   "metadata": {},
   "outputs": [],
   "source": [
    "class VectorSpaceModel:\n",
    "    def __init__(self, document_collection, query_collection, \n",
    "                 fileName = 'vector-space-model.dictionary', track_id = '1', run_id='VSM'):\n",
    "        self.document_collection = document_collection\n",
    "        self.query_collection = query_collection\n",
    "        self.unique_query_terms = set(query_collection.inverted_index.keys())\n",
    "        self.space = {}\n",
    "        self.track_id = track_id\n",
    "        self.run_id = run_id\n",
    "        for id in document_collection.docs.keys():\n",
    "            #for term in document_collection.docs[id].processedText:\n",
    "            self.space[id] = [document_collection.getRelevance(id, t) for t in self.unique_query_terms]\n",
    "        with open(fileName, 'wb') as dictionary_file:\n",
    "            pickle.dump(self, dictionary_file)\n",
    "    \n",
    "    def vectorizeXmlQuery(self, xmlQuery):\n",
    "        vectorizedQuery = [self.query_collection.getRelevance(xmlQuery.id, t) for t in self.unique_query_terms]\n",
    "        return vectorizedQuery\n",
    "    \n",
    "    def cosineSimilarity(self, vect1, vect2):\n",
    "        norm1 = np.linalg.norm(vect1)\n",
    "        norm2 = np.linalg.norm(vect2)\n",
    "        dotP = np.dot(vect1, vect2)\n",
    "        #origin vector is equal to itself\n",
    "        if dotP == 0 and norm1 == 0 and norm2 == 0:\n",
    "            return 1\n",
    "        #origin vector is not equal to any vector but itself\n",
    "        if norm1 == 0 or norm2 == 0:\n",
    "            return 0\n",
    "        return np.dot(vect1, vect2) / (norm1 * norm2)\n",
    "    \n",
    "    def computeSimilarity(self, query):\n",
    "        if isinstance(query, XmlQuery):\n",
    "            v_query = self.vectorizeXmlQuery(query)\n",
    "        simDict = {}\n",
    "        documents_containing_query = set()\n",
    "        for term in query.processedText:\n",
    "            if term in self.document_collection.inverted_index:\n",
    "                documents_containing_query = documents_containing_query.union(set(self.document_collection.inverted_index[term]))\n",
    "        for id in documents_containing_query:\n",
    "            v_space = self.space[id]\n",
    "            similarity = self.cosineSimilarity(v_space, v_query)\n",
    "            if similarity not in simDict:\n",
    "                simDict[similarity] = [id]\n",
    "            else:\n",
    "                simDict[similarity] += [id]\n",
    "        return simDict\n",
    "    \n",
    "    def getRank(self, query):\n",
    "        simDict = self.computeSimilarity(query)\n",
    "        relevance = sorted(list(simDict.keys()), reverse=True )#list of relevance results\n",
    "        return simDict, relevance\n",
    "    \n",
    "    \n",
    "    def getQueryResult(self, query, topNumber=10):\n",
    "        start = time.time()\n",
    "        simDict, relevance = self.getRank(query)\n",
    "        end = time.time()\n",
    "        \n",
    "        queryText = query.title\n",
    "        \n",
    "        print(str(topNumber) + ' top results for ' + queryText + ' (' + str(round(end-start, 4)) + 's)')\n",
    "        res = ''\n",
    "        for i in range(len(relevance[0:topNumber])):\n",
    "            count = 0\n",
    "            if relevance[i] != 0 and count < topNumber:\n",
    "                for document in simDict[relevance[i]]:\n",
    "                    res += query.id + ' ' + self.track_id + ' ' + document + ' ' + str(i) + ' ' + str(relevance[i]) + ' ' + self.run_id + self.track_id + '\\n'\n",
    "                    count += 1\n",
    "        return res\n",
    "        "
   ]
  },
  {
   "cell_type": "code",
   "execution_count": 35,
   "id": "7af06cbf",
   "metadata": {},
   "outputs": [
    {
     "name": "stdout",
     "output_type": "stream",
     "text": [
      "Vector Space Model Computed in 9.1026s\n"
     ]
    }
   ],
   "source": [
    "#Init vector space model\n",
    "vectorSpaceFile = 'vector-space-model.dictionary'\n",
    "computeVSM = False or recomputeAll\n",
    "if computeVSM or not os.path.isfile(vectorSpaceFile):\n",
    "    start = time.time()\n",
    "    vsm = VectorSpaceModel(document_collection, query_collection, vectorSpaceFile)\n",
    "    end = time.time()\n",
    "    print('Vector Space Model Computed in ' + str(round(end - start, 4)) + 's')\n",
    "else:\n",
    "    start = time.time()\n",
    "    with open(vectorSpaceFile, 'rb') as dictionary_file:\n",
    "        vsm = pickle.load(dictionary_file) \n",
    "    end = time.time()\n",
    "    print('Vector Space Model Loaded in ' + str(round(end - start, 4)) + 's')"
   ]
  },
  {
   "cell_type": "markdown",
   "id": "55f5df10",
   "metadata": {},
   "source": [
    "<h2>Generate the VSM report for trec_eval</h2>"
   ]
  },
  {
   "cell_type": "code",
   "execution_count": 45,
   "id": "fe3f74cd",
   "metadata": {},
   "outputs": [
    {
     "name": "stdout",
     "output_type": "stream",
     "text": [
      "10 top results for  Dutch Photos of Srebrenica (0.1849s)\n",
      "10 top results for  German Spelling Reform (0.3854s)\n",
      "10 top results for  Nestlé Brands (0.0846s)\n",
      "10 top results for  Human Cloning and Ethics (0.3008s)\n",
      "10 top results for  Yann Piat ' s Assassination (0.0469s)\n",
      "10 top results for  Children ' s Rights (0.5457s)\n",
      "10 top results for  Oil Prices (0.4917s)\n",
      "10 top results for  Shoemaker-Levy and Jupiter (0.0377s)\n",
      "10 top results for  Shooting of Tupac Shakur (0.0625s)\n",
      "10 top results for  Risks with Mobile Phones (0.4389s)\n",
      "10 top results for  Treaty Ratification (0.0625s)\n",
      "10 top results for  Oil Price Fluctuation (0.5013s)\n",
      "10 top results for  Prison Abuse (0.2539s)\n",
      "10 top results for  Scotch Production Consumption (0.2319s)\n",
      "10 top results for  Earthquakes in Mexico_City (0.2005s)\n",
      "10 top results for  Discrimination against European Gypsies (0.3007s)\n",
      "10 top results for  Nuclear Power_Stations (0.1003s)\n",
      "10 top results for  Czech President ' s Background (0.9556s)\n",
      "10 top results for  EU Agricultural Subsidies (0.1003s)\n",
      "10 top results for  Nixon ' s Death (0.4636s)\n",
      "10 top results for  China-Taiwan Relations (0.3007s)\n",
      "10 top results for  Official EU Languages (1.0406s)\n",
      "10 top results for  Bankruptcy of Barings (0.0469s)\n",
      "10 top results for  Dog Attacks (0.4166s)\n",
      "10 top results for  Football Injuries (0.1694s)\n",
      "10 top results for  Strikes by Italian Flight Assistants (0.6172s)\n",
      "10 top results for  Fast Food in Japan (0.6067s)\n",
      "10 top results for  Civil War in the Yemen (0.5171s)\n",
      "10 top results for  James Bond Films (0.4852s)\n",
      "10 top results for  Wimbledon Lady Winners (0.2003s)\n",
      "10 top results for  1995 Athletics World_Records (0.1628s)\n",
      "10 top results for  Italian Royal_Family (0.1159s)\n",
      "10 top results for  French Nuclear Tests (0.4857s)\n",
      "10 top results for  Space Shuttle Missions (0.3964s)\n",
      "10 top results for  EU Illegal Immigrants (0.2005s)\n",
      "10 top results for  Asian Dinosaur Remains (0.7003s)\n",
      "10 top results for  The Talibans in Afghanistan (0.0282s)\n",
      "10 top results for  Russian TV Director Murder (0.7773s)\n",
      "10 top results for  Crime in New York (0.5813s)\n",
      "10 top results for  Election of George W . Bush (0.4339s)\n",
      "10 top results for  Smoking-related Diseases (0.3699s)\n",
      "10 top results for  Bavarian Crucifix Quarrel (0.0312s)\n",
      "10 top results for  Flooding_in Holland and Germany (0.185s)\n",
      "10 top results for  Smuggling of Radioactive Material (0.2005s)\n",
      "10 top results for  Consumer Boycotts (0.1942s)\n",
      "10 top results for  Ethnic Cleansing in the Balkans (0.1425s)\n",
      "10 top results for  Theft of \" The Scream \" (0.0906s)\n",
      "10 top results for  Olympic Games and Peace (0.586s)\n",
      "10 top results for  Ebola Epidemic in Zaire (0.0534s)\n",
      "10 top results for  Public Performances of Liszt (0.795s)\n",
      "10 top results for  Advent of the CD-Burner (0.0181s)\n",
      "10 top results for  Dayton Peace_Treaty (0.0256s)\n",
      "10 top results for  Solar Eclipse (0.0312s)\n",
      "10 top results for  UN Peacekeeping Risks (0.3321s)\n",
      "10 top results for  Soccer Riots in Dublin (0.1537s)\n",
      "10 top results for  Cross-country_Skiing at the Olympic Games . (0.5107s)\n",
      "10 top results for  Swiss referendums (0.0522s)\n",
      "10 top results for  Free Speech on the Internet (0.5412s)\n",
      "10 top results for  Films Set_in Scotland (0.2786s)\n",
      "10 top results for  North_Sea Oil Environment (0.3009s)\n",
      "10 top results for  Hubble and Black_Holes (0.0221s)\n",
      "10 top results for  Anti-abortion Movements (0.4011s)\n",
      "10 top results for  Japanese Rice Imports (0.2786s)\n",
      "10 top results for  Dutch Coalition Government (0.8016s)\n",
      "10 top results for  Anti-Smoking Legislation (0.3541s)\n",
      "10 top results for  Milk Consumption in Europe (0.3165s)\n",
      "10 top results for  Grand_Slam Winners (0.1536s)\n",
      "10 top results for  Sinn Fein and the Anglo-Irish Declaration (0.1002s)\n",
      "10 top results for  ETA Activities in France (0.379s)\n",
      "10 top results for  Hurricane Force (0.6395s)\n",
      "10 top results for  Centenary Celebrations (0.0625s)\n",
      "10 top results for  Women ' s Conference Beijing (0.6182s)\n",
      "10 top results for  Endangered Species (0.0605s)\n",
      "10 top results for  World Heritage Sites (0.2522s)\n",
      "10 top results for  Oil Accidents and Birds (0.3008s)\n",
      "10 top results for  Letter Bomb for Kiesbauer (0.3008s)\n",
      "10 top results for  South_African National Party (0.8492s)\n",
      "10 top results for  Creutzfeldt-Jakob Disease (0.1292s)\n",
      "10 top results for  Merger of Japanese Banks (0.3572s)\n",
      "10 top results for  Money Laundering (0.5391s)\n",
      "10 top results for  Radovan Karadzic (0.0156s)\n",
      "10 top results for  Nuclear Transport in Germany (0.3321s)\n",
      "10 top results for  Countries with Death_Penalty (0.8437s)\n",
      "10 top results for  Deutsche Bank Takeovers (0.2117s)\n",
      "10 top results for  Strikes (0.2811s)\n",
      "10 top results for  Carlos ' Extradition and Trial (0.2492s)\n",
      "10 top results for  Italian paintings (0.1652s)\n",
      "10 top results for  US Cars Import (0.4012s)\n",
      "10 top results for  Wonders of Ancient World (0.0691s)\n",
      "10 top results for  Everglades Environmental Damage (0.3477s)\n",
      "10 top results for  Proof of Top_Quarks (0.069s)\n",
      "10 top results for  Energy Crises (0.3323s)\n",
      "10 top results for  Resignation of NATO Secretary_General (0.1315s)\n",
      "10 top results for  Unexploded World_War_II Bombs (0.207s)\n",
      "10 top results for  Unemployment in Europe (0.3164s)\n",
      "10 top results for  Ayrton Senna ' s Death . (0.385s)\n",
      "10 top results for  Assassination of Rabin (0.0782s)\n",
      "10 top results for  European Drug Sentences (0.5242s)\n",
      "10 top results for  Brain-Drain Impact (0.332s)\n",
      "10 top results for  AI against Death_Penalty (0.0469s)\n",
      "10 top results for  Student Fees (0.3387s)\n",
      "10 top results for  Expulsion of Diplomats (0.1003s)\n",
      "10 top results for  Global Opium Production (0.332s)\n",
      "10 top results for  NBA Labour Conflicts (0.2006s)\n",
      "10 top results for  Transport for Disabled (0.1002s)\n",
      "10 top results for  Falkland Islands (0.1471s)\n",
      "10 top results for  New Quebec Premier (0.0534s)\n",
      "10 top results for  \" Hard \" Drugs (0.6559s)\n",
      "10 top results for  Internet Junkies (0.0422s)\n",
      "10 top results for  Trade_Unions in Europe (0.2514s)\n",
      "10 top results for  NATO Expansion (0.1408s)\n",
      "10 top results for  50th Anniversary of Normandy Landings (0.1159s)\n",
      "10 top results for  Lottery Winnings (0.0221s)\n",
      "10 top results for  Gay Marriages (0.1315s)\n",
      "10 top results for  EU and Baltic Countries (0.8706s)\n",
      "10 top results for  China-Mongolia Relations (0.3634s)\n",
      "10 top results for  Best Foreign Language Films (1.4236s)\n",
      "10 top results for  Maternity Leave in Europe (0.9319s)\n",
      "10 top results for  Hubble Telescope Achievements (0.0847s)\n",
      "10 top results for  Golden Globes 1994 (0.4322s)\n",
      "10 top results for  Brazil vs . Sweden World Cup Semifinals (0.2696s)\n",
      "10 top results for  Doping in Sports (0.2161s)\n",
      "10 top results for  Supermodels (0.0s)\n",
      "10 top results for  Child Labor in Asia (0.7708s)\n",
      "10 top results for  EU and Turkish Customs (0.0625s)\n",
      "10 top results for  Fortune-telling (0.069s)\n",
      "10 top results for  Sierra_Leone Rebellion and Diamonds (0.069s)\n",
      "10 top results for  Four Weddings and a Funeral (0.0847s)\n",
      "10 top results for  Lillehammer Ice_Hockey Finals (0.3634s)\n",
      "10 top results for  Treatment of Industrial Waste (0.3855s)\n",
      "10 top results for  Endangered Species ( Mammals ) (0.0847s)\n",
      "10 top results for  Pope ' s Visit in Sri Lanka (0.4168s)\n",
      "10 top results for  Alternative_Medicine (0.0s)\n",
      "10 top results for  Anti-cancer Drugs (0.5547s)\n",
      "10 top results for  Christo wraps German Reichstag (0.263s)\n",
      "10 top results for  Honorary Oscar for Italian Directors (0.7553s)\n",
      "10 top results for  Smoking Restrictions (0.1159s)\n",
      "10 top results for  Pension Schemes in Europe (0.3321s)\n",
      "10 top results for  Earthquake Damage (0.3229s)\n",
      "10 top results for  Damages in Ozone_Layer (0.2942s)\n",
      "10 top results for  Best Picture Oscar 1994 (1.3101s)\n",
      "10 top results for  Films with Keanu Reeves (0.263s)\n",
      "10 top results for  Euthanasia by Medics (0.0156s)\n",
      "10 top results for  Hostage / Terrorist Situations (0.3698s)\n",
      "10 top results for  Golden Bear (0.4545s)\n",
      "10 top results for  Ebro Delta Farming (0.0469s)\n",
      "10 top results for  Zedillo ' s Economic Policies (0.6863s)\n",
      "10 top results for  Iraqi Kurds and Turkey (0.069s)\n",
      "10 top results for  Labour after John Smith (0.5795s)\n",
      "10 top results for  Rebuilding German Cities (0.8557s)\n",
      "10 top results for  Diets for Celiacs (0.0468s)\n",
      "10 top results for  French General and Balkan Security Zone (0.8556s)\n",
      "10 top results for  Tightening Visa Requirements (0.1694s)\n",
      "10 top results for  Benefit_Concerts (0.0s)\n"
     ]
    },
    {
     "name": "stdout",
     "output_type": "stream",
     "text": [
      "10 top results for  Sex Education (0.332s)\n",
      "10 top results for  Trial of Paul Touvier (0.3697s)\n",
      "10 top results for  Microsoft Competitors (0.0846s)\n",
      "10 top results for  Atomic Energy (0.2318s)\n",
      "10 top results for  Emmy International Awards (0.7018s)\n",
      "10 top results for  Football Refereeing Disputes (0.3321s)\n",
      "10 top results for  Consequences if Charles and Diana Divorce (0.3543s)\n",
      "10 top results for  Military_Service Denial (0.0469s)\n",
      "VSM Results obtained in 51.589s\n"
     ]
    }
   ],
   "source": [
    "#vsm.track_id = '0'\n",
    "#vsm.track_id = '1'\n",
    "vsm.track_id = '2'\n",
    "\n",
    "#print(vsm.getQueryResult(query_collection.queries['10.2452/141-AH']))\n",
    "out_path = 'IR_output/'\n",
    "useLemma = '_Lemma' if use_lemmatization else '_NoLemma'\n",
    "generateVSMReport = True\n",
    "# generate output file for VSM\n",
    "if generateVSMReport:\n",
    "    vsmFile = open(out_path + 'VSM/' + vsm.run_id + vsm.track_id + useLemma + \".out\", \"w\")\n",
    "    start = time.time()\n",
    "    for q in query_collection.queries.keys():\n",
    "        vsmFile.write(vsm.getQueryResult(query_collection.queries[q]))\n",
    "    vsmFile.close()\n",
    "    end = time.time()\n",
    "    print('VSM Results obtained in ' + str(round(end-start, 4)) + 's')"
   ]
  },
  {
   "cell_type": "markdown",
   "id": "06bd6465",
   "metadata": {},
   "source": [
    "<h2>BM25 ranking</h2>\n",
    "<p>For a query $Q$, containing terms $q_1 \\dots, q_n$, the <b>BM25</b> score for a document $D$ is: </p>\n",
    "<h1>$Relevance(D,Q) = \\sum_{i=1}^{n}IDF(q_i) \\cdot \\frac{tf(D, q_i) \\cdot (k + 1)}{tf(D, q_i) + k \\cdot (1 - b - \\frac{b|D|}{avgdl})} $</h1>"
   ]
  },
  {
   "cell_type": "code",
   "execution_count": 44,
   "id": "30f06fd8",
   "metadata": {},
   "outputs": [
    {
     "name": "stdout",
     "output_type": "stream",
     "text": [
      "Query: 10.2452/185-AH ranked in 0.0s\n",
      "Query: 10.2452/188-AH ranked in 0.031250715255737305s\n",
      "Query: 10.2452/301-AH ranked in 0.0s\n",
      "Query: 10.2452/268-AH ranked in 0.015608549118041992s\n",
      "Query: 10.2452/348-AH ranked in 0.0s\n",
      "Query: 10.2452/152-AH ranked in 0.022165775299072266s\n",
      "Query: 10.2452/305-AH ranked in 0.015663623809814453s\n",
      "Query: 10.2452/176-AH ranked in 0.0s\n",
      "Query: 10.2452/332-AH ranked in 0.0s\n",
      "Query: 10.2452/155-AH ranked in 0.015585184097290039s\n",
      "Query: 10.2452/269-AH ranked in 0.0s\n",
      "Query: 10.2452/290-AH ranked in 0.015655994415283203s\n",
      "Query: 10.2452/282-AH ranked in 0.0s\n",
      "Query: 10.2452/160-AH ranked in 0.0s\n",
      "Query: 10.2452/327-AH ranked in 0.015620946884155273s\n",
      "Query: 10.2452/266-AH ranked in 0.01562190055847168s\n",
      "Query: 10.2452/298-AH ranked in 0.0s\n",
      "Query: 10.2452/272-AH ranked in 0.02214789390563965s\n",
      "Query: 10.2452/276-AH ranked in 0.0s\n",
      "Query: 10.2452/349-AH ranked in 0.015584945678710938s\n",
      "Query: 10.2452/293-AH ranked in 0.015625s\n",
      "Query: 10.2452/170-AH ranked in 0.03774905204772949s\n",
      "Query: 10.2452/180-AH ranked in 0.0s\n",
      "Query: 10.2452/312-AH ranked in 0.015628576278686523s\n",
      "Query: 10.2452/286-AH ranked in 0.33211302757263184s\n",
      "Query: 10.2452/195-AH ranked in 0.046862125396728516s\n",
      "Query: 10.2452/146-AH ranked in 0.022135019302368164s\n",
      "Query: 10.2452/337-AH ranked in 0.01562976837158203s\n",
      "Query: 10.2452/283-AH ranked in 0.031235218048095703s\n",
      "Query: 10.2452/157-AH ranked in 0.01563096046447754s\n",
      "Query: 10.2452/172-AH ranked in 0.0s\n",
      "Query: 10.2452/194-AH ranked in 0.015630245208740234s\n",
      "Query: 10.2452/181-AH ranked in 0.022146224975585938s\n",
      "Query: 10.2452/284-AH ranked in 0.015621185302734375s\n",
      "Query: 10.2452/291-AH ranked in 0.0s\n",
      "Query: 10.2452/183-AH ranked in 0.031242847442626953s\n",
      "Query: 10.2452/321-AH ranked in 0.0s\n",
      "Query: 10.2452/192-AH ranked in 0.0377500057220459s\n",
      "Query: 10.2452/280-AH ranked in 0.015626907348632812s\n",
      "Query: 10.2452/334-AH ranked in 0.015622138977050781s\n",
      "Query: 10.2452/275-AH ranked in 0.0353245735168457s\n",
      "Query: 10.2452/174-AH ranked in 0.0s\n",
      "Query: 10.2452/200-AH ranked in 0.0s\n",
      "Query: 10.2452/264-AH ranked in 0.015624761581420898s\n",
      "Query: 10.2452/302-AH ranked in 0.0s\n",
      "Query: 10.2452/257-AH ranked in 0.016130924224853516s\n",
      "Query: 10.2452/341-AH ranked in 0.0s\n",
      "Query: 10.2452/153-AH ranked in 0.01562666893005371s\n",
      "Query: 10.2452/199-AH ranked in 0.0s\n",
      "Query: 10.2452/296-AH ranked in 0.04686331748962402s\n",
      "Query: 10.2452/169-AH ranked in 0.0s\n",
      "Query: 10.2452/197-AH ranked in 0.0s\n",
      "Query: 10.2452/308-AH ranked in 0.0s\n",
      "Query: 10.2452/299-AH ranked in 0.015625s\n",
      "Query: 10.2452/158-AH ranked in 0.0s\n",
      "Query: 10.2452/345-AH ranked in 0.022123336791992188s\n",
      "Query: 10.2452/279-AH ranked in 0.0s\n",
      "Query: 10.2452/154-AH ranked in 0.015582084655761719s\n",
      "Query: 10.2452/307-AH ranked in 0.015621662139892578s\n",
      "Query: 10.2452/159-AH ranked in 0.015656471252441406s\n",
      "Query: 10.2452/189-AH ranked in 0.0s\n",
      "Query: 10.2452/285-AH ranked in 0.03124547004699707s\n",
      "Query: 10.2452/145-AH ranked in 0.006508350372314453s\n",
      "Query: 10.2452/186-AH ranked in 0.046869516372680664s\n",
      "Query: 10.2452/260-AH ranked in 0.015658140182495117s\n",
      "Query: 10.2452/177-AH ranked in 0.01558375358581543s\n",
      "Query: 10.2452/346-AH ranked in 0.0s\n",
      "Query: 10.2452/339-AH ranked in 0.0s\n",
      "Query: 10.2452/306-AH ranked in 0.02213144302368164s\n",
      "Query: 10.2452/294-AH ranked in 0.015661954879760742s\n",
      "Query: 10.2452/313-AH ranked in 0.0s\n",
      "Query: 10.2452/143-AH ranked in 0.03124547004699707s\n",
      "Query: 10.2452/314-AH ranked in 0.0s\n",
      "Query: 10.2452/304-AH ranked in 0.015584230422973633s\n",
      "Query: 10.2452/147-AH ranked in 0.015621185302734375s\n",
      "Query: 10.2452/141-AH ranked in 0.0s\n",
      "Query: 10.2452/343-AH ranked in 0.05337858200073242s\n",
      "Query: 10.2452/256-AH ranked in 0.0s\n",
      "Query: 10.2452/196-AH ranked in 0.015657901763916016s\n",
      "Query: 10.2452/295-AH ranked in 0.03124547004699707s\n",
      "Query: 10.2452/281-AH ranked in 0.0s\n",
      "Query: 10.2452/187-AH ranked in 0.015582561492919922s\n",
      "Query: 10.2452/253-AH ranked in 0.022137165069580078s\n",
      "Query: 10.2452/265-AH ranked in 0.015620946884155273s\n",
      "Query: 10.2452/316-AH ranked in 0.0s\n",
      "Query: 10.2452/338-AH ranked in 0.015622138977050781s\n",
      "Query: 10.2452/303-AH ranked in 0.0s\n",
      "Query: 10.2452/288-AH ranked in 0.015621662139892578s\n",
      "Query: 10.2452/151-AH ranked in 0.0s\n",
      "Query: 10.2452/175-AH ranked in 0.015621662139892578s\n",
      "Query: 10.2452/173-AH ranked in 0.0s\n",
      "Query: 10.2452/320-AH ranked in 0.022129058837890625s\n",
      "Query: 10.2452/179-AH ranked in 0.0s\n",
      "Query: 10.2452/274-AH ranked in 0.015627622604370117s\n",
      "Query: 10.2452/311-AH ranked in 0.015620946884155273s\n",
      "Query: 10.2452/350-AH ranked in 0.015622138977050781s\n",
      "Query: 10.2452/168-AH ranked in 0.0s\n",
      "Query: 10.2452/164-AH ranked in 0.031242847442626953s\n",
      "Query: 10.2452/258-AH ranked in 0.022127866744995117s\n",
      "Query: 10.2452/150-AH ranked in 0.0s\n",
      "Query: 10.2452/325-AH ranked in 0.015628576278686523s\n",
      "Query: 10.2452/297-AH ranked in 0.015619993209838867s\n",
      "Query: 10.2452/319-AH ranked in 0.015622377395629883s\n",
      "Query: 10.2452/336-AH ranked in 0.015620946884155273s\n",
      "Query: 10.2452/278-AH ranked in 0.0s\n",
      "Query: 10.2452/289-AH ranked in 0.0s\n",
      "Query: 10.2452/340-AH ranked in 0.0s\n",
      "Query: 10.2452/309-AH ranked in 0.037747859954833984s\n",
      "Query: 10.2452/255-AH ranked in 0.0s\n",
      "Query: 10.2452/156-AH ranked in 0.015628576278686523s\n",
      "Query: 10.2452/273-AH ranked in 0.0s\n",
      "Query: 10.2452/182-AH ranked in 0.01562047004699707s\n",
      "Query: 10.2452/300-AH ranked in 0.0s\n",
      "Query: 10.2452/271-AH ranked in 0.0s\n",
      "Query: 10.2452/193-AH ranked in 0.031243085861206055s\n",
      "Query: 10.2452/167-AH ranked in 0.015621423721313477s\n",
      "Query: 10.2452/267-AH ranked in 0.0769047737121582s\n",
      "Query: 10.2452/184-AH ranked in 0.060889482498168945s\n",
      "Query: 10.2452/303 ranked in 0.0s\n",
      "Query: 10.2452/165-AH ranked in 0.03124237060546875s\n",
      "Query: 10.2452/344-AH ranked in 0.015622615814208984s\n",
      "Query: 10.2452/315-AH ranked in 0.0s\n",
      "Query: 10.2452/324-AH ranked in 0.0s\n",
      "Query: 10.2452/190-AH ranked in 0.03775954246520996s\n",
      "Query: 10.2452/162-AH ranked in 0.0s\n",
      "Query: 10.2452/261-AH ranked in 0.0s\n",
      "Query: 10.2452/144-AH ranked in 0.015621662139892578s\n",
      "Query: 10.2452/342-AH ranked in 0.0s\n",
      "Query: 10.2452/171-AH ranked in 0.015620946884155273s\n",
      "Query: 10.2452/310-AH ranked in 0.015620946884155273s\n",
      "Query: 10.2452/304 ranked in 0.0s\n",
      "Query: 10.2452/149-AH ranked in 0.031243085861206055s\n",
      "Query: 10.2452/251-AH ranked in 0.0s\n",
      "Query: 10.2452/317-AH ranked in 0.022136449813842773s\n",
      "Query: 10.2452/142-AH ranked in 0.015621185302734375s\n",
      "Query: 10.2452/198-AH ranked in 0.04686307907104492s\n",
      "Query: 10.2452/163-AH ranked in 0.0s\n",
      "Query: 10.2452/252-AH ranked in 0.022131681442260742s\n",
      "Query: 10.2452/254-AH ranked in 0.0s\n",
      "Query: 10.2452/148-AH ranked in 0.015624761581420898s\n",
      "Query: 10.2452/347-AH ranked in 0.06252503395080566s\n",
      "Query: 10.2452/330-AH ranked in 0.006525754928588867s\n",
      "Query: 10.2452/277-AH ranked in 0.0s\n",
      "Query: 10.2452/287-AH ranked in 0.015629291534423828s\n",
      "Query: 10.2452/259-AH ranked in 0.015621185302734375s\n",
      "Query: 10.2452/191-AH ranked in 0.0s\n",
      "Query: 10.2452/331-AH ranked in 0.03124237060546875s\n",
      "Query: 10.2452/328-AH ranked in 0.0s\n",
      "Query: 10.2452/335-AH ranked in 0.015619516372680664s\n",
      "Query: 10.2452/292-AH ranked in 0.037758588790893555s\n",
      "Query: 10.2452/161-AH ranked in 0.0s\n",
      "Query: 10.2452/166-AH ranked in 0.046865224838256836s\n",
      "Query: 10.2452/323-AH ranked in 0.0s\n",
      "Query: 10.2452/262-AH ranked in 0.0s\n",
      "Query: 10.2452/318-AH ranked in 0.015622377395629883s\n",
      "Query: 10.2452/333-AH ranked in 0.022166728973388672s\n",
      "Query: 10.2452/270-AH ranked in 0.0s\n",
      "Query: 10.2452/322-AH ranked in 0.0s\n",
      "Query: 10.2452/326-AH ranked in 0.031246662139892578s\n",
      "Query: 10.2452/263-AH ranked in 0.01562356948852539s\n",
      "Query: 10.2452/329-AH ranked in 0.015619516372680664s\n",
      "Query: 10.2452/178-AH ranked in 0.0s\n",
      "BM25 Results obtained in 2.6377s\n"
     ]
    }
   ],
   "source": [
    "#document_collection.avgdl = np.mean([len(item.processedText) for k, item in document_collection.docs.items()])\n",
    "class BM25Result:\n",
    "    def __init__(self, q_id, d_id, relevance):\n",
    "        self.q_id = q_id\n",
    "        self.d_id = d_id\n",
    "        self.relevance = relevance\n",
    "        \n",
    "        \n",
    "class BM25:\n",
    "    def __init__(self, \n",
    "                 document_collection, \n",
    "                 query_collection, \n",
    "                 k = 1.2, \n",
    "                 b = .75,\n",
    "                 track_id = 'k1.2-b0.75', \n",
    "                 run_id='BM25'                 \n",
    "                ):\n",
    "        self.document_collection = document_collection\n",
    "        self.query_collection = query_collection\n",
    "        self.k = k\n",
    "        self.b = b\n",
    "        self.track_id = 'k'+str(k)+'-'+'b'+str(b)\n",
    "        self.run_id = run_id\n",
    "        \n",
    "    def calculateRelevance(self, document, query):\n",
    "        #unique_query_terms = set(query_collection.inverted_index.keys())\n",
    "        rel = 0\n",
    "        for q_i in query.processedText:\n",
    "            idfq_i = self.query_collection.idf[q_i]\n",
    "            try:\n",
    "                tf_d_q_i = document.tfIndex[q_i] \n",
    "            except:\n",
    "                tf_d_q_i = 0\n",
    "            avgdl = self.document_collection.avgdl\n",
    "            num = tf_d_q_i * (self.k + 1)\n",
    "            den = tf_d_q_i + self.k * (1 - self.b - self.b * len(document.processedText) / avgdl)\n",
    "            rel += idfq_i * num / den\n",
    "        return rel\n",
    "    \n",
    "    def getQueryResult(self, query, limitResult = 10):\n",
    "        rank = []\n",
    "        start = time.time()\n",
    "        documents_containing_query = set()\n",
    "        for term in query.processedText:\n",
    "            if term in self.document_collection.inverted_index:\n",
    "                documents_containing_query = documents_containing_query.union(set(self.document_collection.inverted_index[term]))\n",
    "        for doc_id in documents_containing_query:\n",
    "            rank += [BM25Result(query.id, doc_id, self.calculateRelevance(self.document_collection.docs[doc_id], query))] \n",
    "        rank.sort(key=lambda x: x.relevance, reverse=True)\n",
    "        res = ''\n",
    "        for i in range(len(rank[0:limitResult])):\n",
    "            if rank[i].relevance != 0:\n",
    "                res += rank[i].q_id + ' ' + self.track_id + ' ' + rank[i].d_id + ' ' + str(i) + ' ' + str(rank[i].relevance) + ' ' + self.run_id + self.track_id + '\\n'\n",
    "        end = time.time()\n",
    "        print('Query: ' + query.id + ' ranked in ' + str(end-start) + 's')\n",
    "        return res\n",
    "    \n",
    "    def getReport(self, out_folder = 'BM25/'):\n",
    "        bm25File = open(out_path + out_folder + self.run_id + self.track_id + useLemma + \".out\", \"w\")\n",
    "        for q in self.query_collection.queries.keys():\n",
    "            bm25File.write(self.getQueryResult(self.query_collection.queries[q]))\n",
    "        bm25File.close()\n",
    "            \n",
    "bm25 = BM25(document_collection, query_collection)\n",
    "#bm25.calculateRelevance(document_collection.docs['LA080294-0033'], query_collection.queries['10.2452/185-AH'])\n",
    "start = time.time()\n",
    "bm25.getReport()\n",
    "end = time.time()\n",
    "print('BM25 Results obtained in ' + str(round(end-start, 4)) + 's')"
   ]
  },
  {
   "cell_type": "code",
   "execution_count": 27,
   "id": "4e34a106",
   "metadata": {},
   "outputs": [
    {
     "data": {
      "text/plain": [
       "' Dutch Photos of Srebrenica'"
      ]
     },
     "execution_count": 27,
     "metadata": {},
     "output_type": "execute_result"
    }
   ],
   "source": [
    "query_collection.queries['10.2452/185-AH'].title"
   ]
  },
  {
   "cell_type": "code",
   "execution_count": 28,
   "id": "a04b9b63",
   "metadata": {},
   "outputs": [
    {
     "data": {
      "text/plain": [
       "' Benedict Arnold , Judas and Assemblyman Paul V . Horcher . Betrayal was the operative sentiment Tuesday around Horcher \\' s 60th District in the East San Gabriel Valley , especially among Republicans . They called it treachery for the man they reelected in November to renounce the party and back longtime Democratic Speaker Willie Brown , a political Antichrist for many voters here . \" Horcher is a traitor , \" said Joe Edwards , a former supporter who took a break from shopping at The Plaza at West Covina to vent his anger . \" I wanted Willie Brown out of there and then he votes for him . I feel very much betrayed. \" Timothy J . Vrieling , chairman of the local Republican Central Committee , said he has begun organizing a recall drive against Horcher , who declared himself an independent Monday after casting a decisive vote to block the seating of a Republican Speaker . \" It \\' s a major slap in the face to Republicans , \" Vrieling said . \" The Republican_Party is what put him in office. \" Horcher , a 43-year-old lawyer , has cast himself as a maverick for several years , but his dramatic switch_on the first day of the Assembly session in Sacramento marked a new role . Despite winning reelection Nov . 8 with 61 % of the vote , his political future in the conservative district -- including the communities of Diamond Bar , Hacienda Heights , West Covina and portions of Pomona and Whittier -- now seems virtually comatose . \" Horcher seems to have done_it in a way that definitely burns his bridges with his Republican_Party , \" said political_scientist Alan Heslop , a professor at Claremont McKenna College . \" And he has no roots in the Democratic Party locally . Mr. Horcher has put an end to any political future that he might have had. \" While Horcher cited the rightward tilt of the Assembly Republicans for his jump , his suburban district is comfortable in its conservatism . Voters there sided strongly with Republican Mike Huffington over Sen . Dianne Feinstein last month , and endorsed the reelection of Gov . Pete Wilson . In 1992 the voters bucked the Democratic tide and went_for George_Bush over Bill_Clinton , while showing a strong independent streak -- 20 % cast votes for maverick Ross Perot . Ronald Reagan did_well there . Now , authorities in Horcher \\' s hometown of Diamond Bar say they are_on alert after the assemblyman reportedly received death threats at his Sacramento office . \" Nothing is trustworthy -- nothing is from the heart in politics anymore , \" said Sam Longoria , a West Covina resident who voted for Perot in the last presidential election . \" They \\' ll tell you one thing one moment and do another the next . Politicians like Horcher aren \\' t responsive to the people who elected them. \" Bert Kramer , a Republican from West Covina , said he felt the betrayal deeply . \" I am depressed and very upset , \" he said . \" I think he \\' s done a very immoral thing and I hope he gets what \\' s coming_to him. \" Local Democrats were far from unanimous in their reaction to Horcher \\' s renunciation of his GOP roots . \" I say good for him . I \\' m sure he did what he thought was right for his constituents , \" said Mary Albeen , a Democrat from Rowland Heights . Yet supporters of Democrat Andrew Ramirez , who ran against Horcher in the Nov . 8 election , said they feel their own betrayal because their candidate was spurned by Brown . Ramirez appealed in vain for financial help from the Assembly \\' s Democratic Caucus . \" Willie ignored him and paid_attention to Paul ( Horcher ) , \" said Rickie Santell , a state Democratic Party board_member . \" I \\' m sickened by the process that allowed this to happen. \" Horcher , a moderate who favors abortion rights and has aligned himself with the traditionally Democratic California Trial_Lawyers Assn. , is a battle-scarred veteran of political infighting in the San Gabriel Valley . He was elected to the City_Council in Diamond Bar in 1989 , the year the city incorporated . Within months , council_members voted to strip Horcher of his largely ceremonial title of mayor pro_tem after he accused a councilman of conflict_of_interest . Horcher spent more_than $ 300 # 000 of_his_own money to win a narrow victory in the 1990 primary over seven Republican rivals for the Assembly seat . Last September he mounted a challenge in a special election for an open seat in the state Senate , running with the aid of Democratic groups . Despite the assistance , Horcher finished a distant third behind Assemblyman Richard Mountjoy of Arcadia and Diamond Bar Councilman Gary G . Miller , a wealthy Republican businessman . During that campaign , Horcher sent_out a mailer that chided the conservative Mountjoy for voting to make Brown the Speaker in 1980 . \" Paul Horcher has never voted to make Willie Brown speaker , \" the mailer bragged . \" He should resign , \" Miller said Tuesday . \" He misrepresented himself to the people . The man has flat smashed a Republican dream. \" Caren Daniels-Meade , spokeswoman for the secretary_of_state , said recall elections aimed at state officeholders have been held only four times in California history and have succeeded only twice . The last recall election was in April , when proponents failed to oust state Sen . David Roberti ( D-Van Nuys ) . Horcher , in a statement read Monday , said his new status as an independent would benefit his district , but local leaders did not all see it that way . \" I was fearful this would happen , \" said Dr. Forest Tennant , a prominent Republican and former mayor of West Covina . \" Paul Horcher will no longer be able to represent his district adequately because any bill he carries or takes a lead_on will be despised by people of both parties . I \\' m saddened , because this is not going_to help the San Gabriel Valley. \" Holguin is a Times staff writer . Winton is a special correspondent . Horcher \\' s Home Base Assemblyman Paul Horcher \\' s district in the San Gabriel Valley is evenly split between Republicans and Democrats , but it votes conservatively and independently -- not the kind of place where his support for longtime Speaker Willie Brown will win him friends . The district favored George_Bush over Bill_Clinton in 1992 , but 20 % voted for Ross Perot . 60TH ASSEMBLY DISTRICT White : 47 % Latino : 30 % Asian American : 17 % African American : 6 % * NOV . 1994 ELECTION Paul Horcher ( R Inc. ) : 61 % Andrew M . Ramirez ( D ) : 33 % * Pete Wilson ( R Inc. ) : 58 % Kathleen Brown ( D ) : 35 % * Michael Huffington ( R ) : 51 % Diane Feinstein ( D Inc. ) : 36 % * Propostion 187 Yes : 60 % No : 36 % Sources : California secretary_of_state , Los Angeles registrar of voters , California Journal . Researched by NONA YATES / Los Angeles Times'"
      ]
     },
     "execution_count": 28,
     "metadata": {},
     "output_type": "execute_result"
    }
   ],
   "source": [
    "document_collection.docs['LA120794-0166'].text"
   ]
  },
  {
   "cell_type": "code",
   "execution_count": 30,
   "id": "a450f9bd",
   "metadata": {},
   "outputs": [
    {
     "data": {
      "text/plain": [
       "118094"
      ]
     },
     "execution_count": 30,
     "metadata": {},
     "output_type": "execute_result"
    }
   ],
   "source": [
    "len(document_collection.inverted_index.keys())"
   ]
  },
  {
   "cell_type": "code",
   "execution_count": null,
   "id": "1d9097b1",
   "metadata": {},
   "outputs": [],
   "source": []
  }
 ],
 "metadata": {
  "kernelspec": {
   "display_name": "Python 3 (ipykernel)",
   "language": "python",
   "name": "python3"
  },
  "language_info": {
   "codemirror_mode": {
    "name": "ipython",
    "version": 3
   },
   "file_extension": ".py",
   "mimetype": "text/x-python",
   "name": "python",
   "nbconvert_exporter": "python",
   "pygments_lexer": "ipython3",
   "version": "3.7.3"
  }
 },
 "nbformat": 4,
 "nbformat_minor": 5
}
