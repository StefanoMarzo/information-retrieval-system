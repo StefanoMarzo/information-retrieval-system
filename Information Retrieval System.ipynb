{
 "cells": [
  {
   "cell_type": "markdown",
   "id": "2cb534a5",
   "metadata": {},
   "source": [
    "<h2>Indexing the document collection</h2>"
   ]
  },
  {
   "cell_type": "markdown",
   "id": "453a7cce",
   "metadata": {},
   "source": [
    "<h3>Settings & utilities</h3>"
   ]
  },
  {
   "cell_type": "code",
   "execution_count": 1,
   "id": "7a21f59f",
   "metadata": {},
   "outputs": [],
   "source": [
    "#imports\n",
    "import xml.etree.ElementTree as ET\n",
    "import os\n",
    "import string\n",
    "import numpy as np\n",
    "from matplotlib import pyplot as plt\n",
    "import math\n",
    "import re    #RegEx\n",
    "import spacy #lemmatization\n",
    "from collections import OrderedDict\n",
    "import pickle #serialize object read/write files\n",
    "import time\n",
    "\n",
    "#Local import\n",
    "%run \"contraction.py\"\n",
    "\n",
    "#config\n",
    "%config InlineBackend.figure_format = 'retina'"
   ]
  },
  {
   "cell_type": "markdown",
   "id": "cc23d434",
   "metadata": {},
   "source": [
    "<h3>Utilities</h3>\n"
   ]
  },
  {
   "cell_type": "code",
   "execution_count": 2,
   "id": "507d9a1a",
   "metadata": {},
   "outputs": [],
   "source": [
    "def divideList(list_in, percentage, seed):\n",
    "    if percentage < 0 or percentage > 1:\n",
    "        print('Percentage must be between 0 and 1')\n",
    "        return []\n",
    "    np.random.seed(seed)\n",
    "    idx = np.random.shuffle(list_in)\n",
    "    if percentage == 1:\n",
    "        return list_in\n",
    "    i = round(len(list_in) * percentage)\n",
    "    return list_in[0:i]\n",
    "\n",
    "#divideList([0,1,2,3,4,5,6,7,8,9], 0.7, 1)"
   ]
  },
  {
   "cell_type": "markdown",
   "id": "d1a2853e",
   "metadata": {},
   "source": [
    "<h3>Load stopwords</h2>"
   ]
  },
  {
   "cell_type": "code",
   "execution_count": 3,
   "id": "a0ef99c2",
   "metadata": {},
   "outputs": [],
   "source": [
    "#Load a stopword list NLTK\n",
    "gist_file = open(\"stopwords.txt\", \"r\")\n",
    "try:\n",
    "    content = gist_file.read()\n",
    "    stopwords = content.split(\",\")\n",
    "finally:\n",
    "    gist_file.close()"
   ]
  },
  {
   "cell_type": "markdown",
   "id": "e7fc7d6b",
   "metadata": {},
   "source": [
    "<h3>Load document collection</h3>"
   ]
  },
  {
   "cell_type": "code",
   "execution_count": 4,
   "id": "a68faeb8",
   "metadata": {},
   "outputs": [],
   "source": [
    "#path to the document collection\n",
    "collection_path = 'C:/Users/Stefano Marzo/Documents/DCU Master Dublin/05 Second semester modules/CA6005 Mechanics of search/01 Assignment/COLLECTION'\n",
    "\n",
    "def getDocumentList(path):\n",
    "    return os.listdir(path)\n",
    "    \n",
    "#generate document name list\n",
    "doc_list = getDocumentList(collection_path)"
   ]
  },
  {
   "cell_type": "markdown",
   "id": "e34e830e",
   "metadata": {},
   "source": [
    "<h3>Load queries</h3>"
   ]
  },
  {
   "cell_type": "code",
   "execution_count": 5,
   "id": "643abb8d",
   "metadata": {},
   "outputs": [],
   "source": [
    "queries_path = 'C:/Users/Stefano Marzo/Documents/DCU Master Dublin/05 Second semester modules/CA6005 Mechanics of search/01 Assignment/topics'\n",
    "\n",
    "#generate query name list\n",
    "queries_list = getDocumentList(queries_path)"
   ]
  },
  {
   "cell_type": "markdown",
   "id": "1d7d5697",
   "metadata": {},
   "source": [
    "<h3>Classes for handle XML documents and the Document Collection</h3>"
   ]
  },
  {
   "cell_type": "code",
   "execution_count": 6,
   "id": "2aeac326",
   "metadata": {},
   "outputs": [],
   "source": [
    "#relevant document tags \n",
    "DOCID = 'DOCID'\n",
    "HEADLINE = 'HEADLINE'\n",
    "TEXT = 'TEXT'\n",
    "\n",
    "class XmlDoc:\n",
    "    def __init__(self, xml):\n",
    "        tree = ET.parse(xml)\n",
    "        root = tree.getroot()\n",
    "        for id in root.iter(DOCID):\n",
    "            self.id = id.text\n",
    "        for h in root.iter(HEADLINE):\n",
    "            self.headline = h.text\n",
    "        for t in root.iter(TEXT):\n",
    "            self.text = t.text\n",
    "        self.processedText = processText(self.text)\n",
    "        self.tfIndex = self.__getTF__()\n",
    "    \n",
    "    def getId(self):\n",
    "        return self.id\n",
    "    \n",
    "    def __getTF__(self):\n",
    "        #tf is on text, not headline\n",
    "        #tf has 2 possible implementations\n",
    "        #1. f/max_occurance of most frequent term\n",
    "        #2. f/number_different_terms or number_total_terms?\n",
    "        num_terms = len(self.processedText)\n",
    "        tfIndex = {}\n",
    "        for term in self.processedText:\n",
    "            if term not in tfIndex: #save some time\n",
    "                tfIndex[term] = self.processedText.count(term)/num_terms\n",
    "        return tfIndex\n",
    "\n",
    "class DocumentCollection:\n",
    "    def __init__(self, path, doc_list, fileName='document-collection.dictionary'):\n",
    "        self.__name__ = 'Document Collection'\n",
    "        \n",
    "        #List of XmlDoc object\n",
    "        self.docs = {}\n",
    "        for d in doc_list:\n",
    "            xmlDocument = XmlDoc(path + '/' + d)\n",
    "            self.docs[xmlDocument.id] = xmlDocument\n",
    "        \n",
    "        #Inverted index\n",
    "        self.inverted_index = {}\n",
    "        for id in self.docs.keys():\n",
    "            for term in self.docs[id].processedText:\n",
    "                if term in self.inverted_index:\n",
    "                    self.inverted_index[term].add(id)\n",
    "                else: self.inverted_index[term] = {id}\n",
    "        \n",
    "        #Table of IDF\n",
    "        self.idf = {}\n",
    "        for term in self.inverted_index.keys():\n",
    "            self.idf[term] = np.log(len(self.docs) / len(self.inverted_index[term]))\n",
    "        \n",
    "        with open(fileName, 'wb') as dictionary_file:\n",
    "            pickle.dump(self, dictionary_file)\n",
    "            \n",
    "    \n",
    "    def getRelevance(self, documentID, term):\n",
    "        try:\n",
    "            return self.docs[documentID].tfIndex[term] * self.idf[term]\n",
    "        except: \n",
    "            return 0\n"
   ]
  },
  {
   "cell_type": "markdown",
   "id": "5aa8d995",
   "metadata": {},
   "source": [
    "<h3>Classes for handle XML queries and the Query Collection</h3>"
   ]
  },
  {
   "cell_type": "code",
   "execution_count": 7,
   "id": "783cc135",
   "metadata": {},
   "outputs": [],
   "source": [
    "#relevant document tags \n",
    "QUERYID = 'QUERYID'\n",
    "TITLE = 'TITLE'\n",
    "DESC = 'DESC'\n",
    "\n",
    "class XmlQuery:\n",
    "    def __init__(self, xml):\n",
    "        tree = ET.parse(xml)\n",
    "        root = tree.getroot()\n",
    "        for id in root.iter(QUERYID):\n",
    "            self.id = id.text\n",
    "        for h in root.iter(TITLE):\n",
    "            self.title = h.text\n",
    "        for t in root.iter(DESC):\n",
    "            self.desc = t.text \n",
    "        self.processedText = processText(self.title)\n",
    "        self.tfIndex = self.__getTF__()\n",
    "        \n",
    "    def __getTF__(self):\n",
    "        #tf is on text, not headline\n",
    "        #tf has 2 possible implementations\n",
    "        #1. f/max_occurance of most frequent term\n",
    "        #2. f/number_different_terms or number_total_terms?\n",
    "        num_terms = len(self.processedText)\n",
    "        tfIndex = {}\n",
    "        for term in self.processedText:\n",
    "            if term not in tfIndex: #save some time\n",
    "                tfIndex[term] = self.processedText.count(term)/num_terms\n",
    "        return tfIndex\n",
    "\n",
    "class QueryCollection:\n",
    "    def __init__(self, path, query_list, fileName='query-collection.dictionary'):\n",
    "        #List of XmlDoc object\n",
    "        self.queries = {}\n",
    "        for d in query_list:\n",
    "            xmlQuery = XmlQuery(path + '/' + d)\n",
    "            self.queries[xmlQuery.id] = xmlQuery\n",
    "        \n",
    "        #Inverted index\n",
    "        self.inverted_index = {}\n",
    "        for id in self.queries.keys():\n",
    "            for term in self.queries[id].processedText:\n",
    "                if term in self.inverted_index:\n",
    "                    self.inverted_index[term].add(id)\n",
    "                else: self.inverted_index[term] = {id}\n",
    "        \n",
    "        #Table of IDF\n",
    "        self.idf = {}\n",
    "        for term in self.inverted_index.keys():\n",
    "            self.idf[term] = np.log(len(self.queries) / len(self.inverted_index[term]))\n",
    "        \n",
    "        with open(fileName, 'wb') as dictionary_file:\n",
    "            pickle.dump(self, dictionary_file)\n",
    "            \n",
    "    \n",
    "    def getRelevance(self, queryID, term):\n",
    "        try:\n",
    "            return self.queries[queryID].tfIndex[term] * self.idf[term]\n",
    "        except: \n",
    "            return 0\n",
    "    \n",
    "    \n",
    "            \n",
    "#xmlq = XmlQuery(queries_path + '/' + queries_list[0])\n",
    "#xmlq.title"
   ]
  },
  {
   "cell_type": "markdown",
   "id": "636f24fe",
   "metadata": {},
   "source": [
    "<h2>Processing text</h2>"
   ]
  },
  {
   "cell_type": "code",
   "execution_count": 8,
   "id": "55e7c11c",
   "metadata": {},
   "outputs": [],
   "source": [
    "#Process text to meet the IR requirements\n",
    "\n",
    "# Regular expression for finding contractions\n",
    "contractions_re=re.compile('(%s)' % '|'.join(contractions_dict.keys()))\n",
    "\n",
    "# Function for expanding contractions\n",
    "def expand_contractions(text,contractions_dict=contractions_dict):\n",
    "    def replace(match):\n",
    "        return contractions_dict[match.group(0)]\n",
    "    return contractions_re.sub(replace, text)\n",
    "\n",
    "# Lemmatization\n",
    "# https://www.analyticsvidhya.com/blog/2019/08\n",
    "#/how-to-remove-stopwords-text-normalization-nltk-spacy-gensim-python\n",
    "#/?utm_source=blog&utm_medium=information-retrieval-using-word2vec-based-vector-space-model\n",
    "nlp = spacy.load('en_core_web_sm',disable=['ner','parser'])\n",
    "nlp.max_length=5000000\n",
    "\n",
    "def lemmatize(x):\n",
    "    return ' '.join([token.lemma_ for token in list(nlp(x)) if (token.is_stop==False)])\n",
    "\n",
    "#Returns a list of relevant terms\n",
    "def processText(text):\n",
    "    #remove punctuation and stopwords\n",
    "    #remove single punctuation characters, remove points (not separated from string), lower case all \n",
    "    if not isinstance(text, str) :\n",
    "        return []\n",
    "    #lower the text\n",
    "    text = text.lower()\n",
    "    #expand contractions\n",
    "    text = expand_contractions(text)\n",
    "    #lemmatize\n",
    "    text = lemmatize(text)\n",
    "    return list(filter(lambda el: el not in string.punctuation \n",
    "                       and el not in stopwords, \n",
    "                       text.translate(str.maketrans('', '', '.')).split()))\n",
    "\n",
    "#processText('asked processed figuring the foundation')\n",
    "#processText(\"O'reilly's\")\n",
    "#processText(\"I'm Stefano\")"
   ]
  },
  {
   "cell_type": "markdown",
   "id": "3809eea0",
   "metadata": {},
   "source": [
    "<h2>Create Document Collection and Query Collection objects</h2>"
   ]
  },
  {
   "cell_type": "code",
   "execution_count": 9,
   "id": "f4dea647",
   "metadata": {},
   "outputs": [
    {
     "name": "stdout",
     "output_type": "stream",
     "text": [
      "Document Collection Computed in 39.1736s\n",
      "Query Collection Computed in 0.8778s\n"
     ]
    }
   ],
   "source": [
    "#seed for random number\n",
    "seed = 1\n",
    "\n",
    "#divide the document collection (get pd% of documents)\n",
    "pd = 0.01\n",
    "doc_list = divideList(doc_list, pd, seed)\n",
    "\n",
    "#divide the query collection (get pq% of documents)\n",
    "pq = 1\n",
    "queries_list = divideList(queries_list, pq, seed)\n",
    "\n",
    "#Compute or read document collection\n",
    "computeDocumentCollection = False\n",
    "documentCollectionFileName = 'document-collection.dictionary'\n",
    "\n",
    "#create a Document collection object\n",
    "if computeDocumentCollection or not os.path.isfile(documentCollectionFileName):\n",
    "    start = time.time()\n",
    "    document_collection = DocumentCollection(collection_path, doc_list, documentCollectionFileName)\n",
    "    end = time.time()\n",
    "    print('Document Collection Computed in ' + str(round(end - start, 4)) + 's')\n",
    "else:\n",
    "    start = time.time()\n",
    "    with open(documentCollectionFileName, 'rb') as dictionary_file:\n",
    "        document_collection = pickle.load(dictionary_file) \n",
    "    end = time.time()\n",
    "    print('Document Collection Loaded in ' + str(round(end - start, 4)) + 's')\n",
    "\n",
    "#Compute or read query collection\n",
    "computeQueryCollection = False\n",
    "queryCollectionFileName = 'query-collection.dictionary'\n",
    "\n",
    "#create a Query collection object\n",
    "if computeQueryCollection or not os.path.isfile(queryCollectionFileName):\n",
    "    start = time.time()\n",
    "    query_collection = QueryCollection(queries_path, queries_list, queryCollectionFileName)\n",
    "    end = time.time()\n",
    "    print('Query Collection Computed in ' + str(round(end - start, 4)) + 's')\n",
    "else:\n",
    "    start = time.time()\n",
    "    with open(queryCollectionFileName, 'rb') as dictionary_file:\n",
    "        query_collection = pickle.load(dictionary_file) \n",
    "    end = time.time()\n",
    "    print('Query Collection Loaded in ' + str(round(end - start, 4)) + 's')\n",
    "\n",
    "#pointer to inverted index\n",
    "inverted_index = document_collection.inverted_index"
   ]
  },
  {
   "cell_type": "markdown",
   "id": "94a64676",
   "metadata": {},
   "source": [
    "<h2>Heaps' law</h2>\n",
    "<h2>$M = kT^b$</h2>\n",
    "<p>where:</p>\n",
    "<ul>\n",
    "    <li>$M$ is the document length </li>\n",
    "    <li>$T$ is the number of distinct terms, i.e. <i>Token</i> </li>\n",
    "    <li>$k$ is a parameter s.t. $10 \\leq k \\leq 100$ </li>\n",
    "    <li>$b$ is a parameter s.t. $0.4 \\leq k \\leq 0.6$ </li>\n",
    "</ul>"
   ]
  },
  {
   "cell_type": "code",
   "execution_count": 10,
   "id": "d09aeead",
   "metadata": {},
   "outputs": [],
   "source": [
    "k = 18\n",
    "b = .6\n",
    "\n",
    "#heap function\n",
    "def heaps(k,T,b):\n",
    "    return np.power(T, b) * k"
   ]
  },
  {
   "cell_type": "code",
   "execution_count": 11,
   "id": "ee6384ea",
   "metadata": {},
   "outputs": [],
   "source": [
    "#documents data (limit to L documents)\n",
    "L = 20 #300 for final result\n",
    "word_list = []\n",
    "unique_words = []\n",
    "for doc in list(document_collection.docs.keys())[0:L]:\n",
    "    word_list += document_collection.docs[doc].processedText\n",
    "\n",
    "for i, w in enumerate(word_list):\n",
    "    unique_words += [len(set(word_list[0:i]))]"
   ]
  },
  {
   "cell_type": "code",
   "execution_count": 12,
   "id": "2a597901",
   "metadata": {},
   "outputs": [
    {
     "data": {
      "image/png": "[encoded data removed]",
      "text/plain": [
       "<Figure size 432x288 with 1 Axes>"
      ]
     },
     "metadata": {
      "image/png": {
       "height": 347,
       "width": 492
      },
      "needs_background": "light"
     },
     "output_type": "display_data"
    }
   ],
   "source": [
    "#plot\n",
    "x = np.linspace(0, len(word_list), 100)\n",
    "\n",
    "fig = plt.figure()\n",
    "ax = fig.add_axes([0,0,1,1])\n",
    "plt.plot(x, heaps(k, x, b), color='red', label='heap function')\n",
    "plt.plot(np.arange(len(unique_words)), unique_words, color='blue', label='computed')\n",
    "ax.set_xlabel('Unique words')\n",
    "ax.set_ylabel('Words count')\n",
    "ax.set_title('Heaps\\' law')\n",
    "plt.legend()\n",
    "plt.show()"
   ]
  },
  {
   "cell_type": "markdown",
   "id": "ea3caa0d",
   "metadata": {},
   "source": [
    "<h2>Zipf's law</h2>\n",
    "<h2>$f = \\frac{k}{r}$</h2>\n",
    "<p>where:</p>\n",
    "<ul>\n",
    "    <li>$f$ is the word frequency</li>\n",
    "    <li>$k$ is a parameter that change with the language (0.1 for english)</li>\n",
    "    <li>$r$ is the <i>rank</i> of the word</li>\n",
    "</ul>"
   ]
  },
  {
   "cell_type": "code",
   "execution_count": 13,
   "id": "8576e5ba",
   "metadata": {},
   "outputs": [],
   "source": [
    "#Zipf's formula\n",
    "kz = 1\n",
    "frequencies = []\n",
    "ranks = []\n",
    "tot_words = len(inverted_index)\n",
    "for word in inverted_index.keys():\n",
    "    frequencies += [len(inverted_index[word])]\n",
    "    ranks += [np.log(kz/frequencies[-1])]"
   ]
  },
  {
   "cell_type": "code",
   "execution_count": 14,
   "id": "e94eb42e",
   "metadata": {},
   "outputs": [
    {
     "data": {
      "image/png": "[encoded data removed]",
      "text/plain": [
       "<Figure size 432x288 with 1 Axes>"
      ]
     },
     "metadata": {
      "image/png": {
       "height": 347,
       "width": 486
      },
      "needs_background": "light"
     },
     "output_type": "display_data"
    }
   ],
   "source": [
    "#Plot\n",
    "fig = plt.figure()\n",
    "ax = fig.add_axes([0,0,1,1])\n",
    "plt.scatter(ranks, frequencies, color='blue')\n",
    "ax.set_xlabel('log(Rank)')\n",
    "ax.set_ylabel('Frequency')\n",
    "ax.set_title('Zipf\\'s law')\n",
    "plt.show()"
   ]
  },
  {
   "cell_type": "markdown",
   "id": "9a254c1b",
   "metadata": {},
   "source": [
    "<h2>Get most significant words</h2>\n",
    "<h3>Attempt #1: frequency density</h3>"
   ]
  },
  {
   "cell_type": "code",
   "execution_count": 15,
   "id": "f21a02ec",
   "metadata": {},
   "outputs": [
    {
     "data": {
      "text/plain": [
       "'\\nfor word in inverted_index.keys():\\n    if len(inverted_index[word]) > 300:\\n        print(word)\\n'"
      ]
     },
     "execution_count": 15,
     "metadata": {},
     "output_type": "execute_result"
    }
   ],
   "source": [
    "#try to get the most frequent terms in a significant way\n",
    "\n",
    "#Point density\n",
    "frequency_list = frequencies[:]\n",
    "frequency_list.sort()\n",
    "\n",
    "#radius = 2\n",
    "#precise but time expensive\n",
    "def getFrequencyDensity(frequency_list, radius):\n",
    "    frequency_density = []\n",
    "    for i in range(len(frequency_list)):\n",
    "        count = 0\n",
    "        lim_inf = frequency_list[i] - radius\n",
    "        lim_sup = frequency_list[i] + radius\n",
    "        j = i\n",
    "        while j >= 0 and frequency_list[j] >= lim_inf:\n",
    "            count += 1\n",
    "            j -= 1\n",
    "        j = i\n",
    "        while j < len(frequency_list) and frequency_list[j] <= lim_sup:\n",
    "            count += 1\n",
    "            j += 1\n",
    "        frequency_density += [count/(2*radius)]\n",
    "    return frequency_density\n",
    "\n",
    "#frequency_density = getFrequencyDensity(frequency_list, radius)\n",
    "\"\"\"\n",
    "for word in inverted_index.keys():\n",
    "    if len(inverted_index[word]) > 300:\n",
    "        print(word)\n",
    "\"\"\""
   ]
  },
  {
   "cell_type": "code",
   "execution_count": 16,
   "id": "050186e2",
   "metadata": {},
   "outputs": [
    {
     "data": {
      "text/plain": [
       "\"\\nfig = plt.figure()\\nax = fig.add_axes([0,0,1,1])\\nplt.scatter(np.arange(len(frequency_density)), frequency_density, color='blue')\\nax.set_xlabel('index')\\nax.set_ylabel('Frequency density')\\nax.set_title('Zipf's law')\\nplt.show()\\n\""
      ]
     },
     "execution_count": 16,
     "metadata": {},
     "output_type": "execute_result"
    }
   ],
   "source": [
    "#Plot the frequency density \n",
    "\"\"\"\n",
    "fig = plt.figure()\n",
    "ax = fig.add_axes([0,0,1,1])\n",
    "plt.scatter(np.arange(len(frequency_density)), frequency_density, color='blue')\n",
    "ax.set_xlabel('index')\n",
    "ax.set_ylabel('Frequency density')\n",
    "ax.set_title('Zipf\\'s law')\n",
    "plt.show()\n",
    "\"\"\""
   ]
  },
  {
   "cell_type": "markdown",
   "id": "10e171e0",
   "metadata": {},
   "source": [
    "<h2>Get most significant words</h2>\n",
    "<h3>Attempt #2: percentage</h3>"
   ]
  },
  {
   "cell_type": "code",
   "execution_count": 17,
   "id": "30c68c8f",
   "metadata": {},
   "outputs": [],
   "source": [
    "#get the most x% frequent terms\n",
    "percentage = .00005\n",
    "\n",
    "def getHighestValue(data, percentage):\n",
    "    data_size = len(frequency_list)\n",
    "    i = data_size * percentage\n",
    "    return data[-round(i)]\n",
    "\n",
    "\n",
    "#len(frequency_list)\n",
    "def printMostFrequentTerms(inverted_index, frequency_list, percentage):\n",
    "    for word in inverted_index.keys():\n",
    "        if len(inverted_index[word]) > getHighestValue(frequency_list, percentage):\n",
    "            print(word)\n",
    "\n",
    "#printMostFrequentTerms(inverted_index, frequency_list, percentage)"
   ]
  },
  {
   "cell_type": "code",
   "execution_count": 18,
   "id": "97c52737",
   "metadata": {},
   "outputs": [
    {
     "data": {
      "image/png": "[encoded data removed]",
      "text/plain": [
       "<Figure size 432x288 with 1 Axes>"
      ]
     },
     "metadata": {
      "image/png": {
       "height": 347,
       "width": 486
      },
      "needs_background": "light"
     },
     "output_type": "display_data"
    }
   ],
   "source": [
    "#plot the results\n",
    "fig = plt.figure()\n",
    "ax = fig.add_axes([0,0,1,1])\n",
    "plt.scatter(ranks, frequencies, color='blue')\n",
    "plt.axhline(y = getHighestValue(frequency_list, percentage), color = 'r', linestyle = '-')\n",
    "ax.set_xlabel('log(Rank)')\n",
    "ax.set_ylabel('Frequency')\n",
    "ax.set_title('Zipf\\'s law')\n",
    "plt.show()"
   ]
  },
  {
   "cell_type": "markdown",
   "id": "a20aa00d",
   "metadata": {},
   "source": [
    "<h2>Term frequency: $tf$</h2>\n",
    "<p>The occurencies of a term in a document divided by the total number of word in a document</p>\n",
    "<p>Normalized term frequency for a term $j$ in a document $i$</p>\n",
    "<h2>$tf_{ij} = \\frac{f_{ij}}{M}$</h2>\n",
    "<p>where $M$ is the number of different terms.</p>"
   ]
  },
  {
   "cell_type": "code",
   "execution_count": 19,
   "id": "d1d2a5d6",
   "metadata": {},
   "outputs": [],
   "source": [
    "#function\n",
    "def getTermFrequency(document):\n",
    "    doc = processText(readDocument(collection_path + '/' + document).text)\n",
    "    num_terms = len(doc)\n",
    "    tfIndex = {}\n",
    "    for term in doc:\n",
    "        tfIndex[term] = doc.count(term)/num_terms\n",
    "    return tfIndex\n",
    "#object\n",
    "#XmlDoc(collection_path + '/' + doc_list[0]).getTF()"
   ]
  },
  {
   "cell_type": "markdown",
   "id": "b53d081e",
   "metadata": {},
   "source": [
    "<h2>Inverse document frequency: $idf$</h2>\n",
    "<p>for a term $j$</p>\n",
    "<h2>$idf_{j} = log(\\frac{N}{df_j})$</h2>\n",
    "<p>where $N$ is the number of documents in the collection and $df_j$ is the number of documents that contain the term $j$.</p>"
   ]
  },
  {
   "cell_type": "code",
   "execution_count": 20,
   "id": "3b6b2ae9",
   "metadata": {},
   "outputs": [],
   "source": [
    "#Function\n",
    "def getInverseDocumentFrequency(inverted_index, N):\n",
    "    idf = {}\n",
    "    for term in inverted_index.keys():\n",
    "        idf[term] = np.log(N / len(inverted_index[term]))\n",
    "    return idf\n",
    "#getInverseDocumentFrequency(inverted_index, len(doc_list))\n",
    "\n",
    "#Class\n",
    "#document_collection.getIDF()"
   ]
  },
  {
   "cell_type": "markdown",
   "id": "1f918c3a",
   "metadata": {},
   "source": [
    "<h2>Balance exhaustivity $tf$ and specificity $idf$</h2>\n",
    "<p>Any term in the collection can be attributed to a level of relevance calculated as</p>\n",
    "<h2>$tf_{ij} \\times idf_{j}$</h2>"
   ]
  },
  {
   "cell_type": "code",
   "execution_count": 21,
   "id": "9c050b9e",
   "metadata": {},
   "outputs": [
    {
     "data": {
      "text/plain": [
       "0"
      ]
     },
     "execution_count": 21,
     "metadata": {},
     "output_type": "execute_result"
    }
   ],
   "source": [
    "document_collection.getRelevance(\n",
    "    document_collection.docs[list(document_collection.docs.keys())[0]].id, 'buckle')"
   ]
  },
  {
   "cell_type": "code",
   "execution_count": 22,
   "id": "34712f5d",
   "metadata": {},
   "outputs": [],
   "source": [
    "#is istance of str, else []\n",
    "#lower\n",
    "#expand contractions\n",
    "#lemmatize\n",
    "#remove punctuation\n",
    "#remove stopwords\n",
    "#remove single points\n",
    "def getQueryVector(query):\n",
    "    q = processText(query.title)\n",
    "    qf = {}\n",
    "    for term in q:\n",
    "        if term not in qf:\n",
    "            qf[term] = 1\n",
    "        else:\n",
    "            qf[term] += 1\n",
    "    return qf\n",
    "\n",
    "\n",
    "def getRelatedDocument(document_collection, query):\n",
    "    s = set() #all document related with query\n",
    "    query = getQueryVector(query)\n",
    "    for term in query:\n",
    "        if term in document_collection.inverted_index:\n",
    "            s = s.union(set(document_collection.inverted_index[term]))\n",
    "    return s, query\n",
    "\n",
    "\n",
    "def getVectorSpace(document_collection, query):\n",
    "    docs, query = getRelatedDocument(document_collection, query)\n",
    "    space = {}\n",
    "    for d in docs:\n",
    "        space[d] = [document_collection.getRelevance(d, term) for term in query]\n",
    "    return space\n",
    "\n",
    "#getVectorSpace(document_collection, xmlq)\n",
    "#document_collection.inverted_index['kiesbauer']"
   ]
  },
  {
   "cell_type": "markdown",
   "id": "2fe1c6d6",
   "metadata": {},
   "source": [
    "<h2>Vector space model VSM</h2>"
   ]
  },
  {
   "cell_type": "code",
   "execution_count": 23,
   "id": "9bb7dd35",
   "metadata": {},
   "outputs": [],
   "source": [
    "class VectorSpaceModel:\n",
    "    def __init__(self, document_collection, query_collection, fileName = 'vector-space-model.dictionary'):\n",
    "        self.document_collection = document_collection\n",
    "        self.query_collection = query_collection\n",
    "        self.unique_query_terms = set(query_collection.inverted_index.keys())\n",
    "        self.space = {}\n",
    "        for id in document_collection.docs.keys():\n",
    "            #for term in document_collection.docs[id].processedText:\n",
    "            self.space[id] = [document_collection.getRelevance(id, t) for t in self.unique_query_terms]\n",
    "        with open(fileName, 'wb') as dictionary_file:\n",
    "            pickle.dump(self, dictionary_file)\n",
    "    \n",
    "    def vectorizeXmlQuery(self, xmlQuery):\n",
    "        vectorizedQuery = [self.query_collection.getRelevance(xmlQuery.id, t) for t in self.unique_query_terms]\n",
    "        return vectorizedQuery\n",
    "    \n",
    "    #search based on unseen queries\n",
    "    def vectorizeStringQuery(self, strQuery):\n",
    "        strQuery = processText(strQuery)\n",
    "        #calculate tf\n",
    "        q_len = len(strQuery)\n",
    "        tfIndex = {}\n",
    "        for term in strQuery:\n",
    "            tfIndex[term] = strQuery.count(term)/q_len\n",
    "        #calculate relevance\n",
    "        q_relevance = {}\n",
    "        for term in strQuery:\n",
    "            try:\n",
    "                q_relevance[term] = tfIndex[term] * self.query_collection[term]\n",
    "            except:\n",
    "                q_relevance[term] = 0\n",
    "        vectorizedQuery = [q_relevance[t] if t in q_relevance else 0 for t in self.unique_query_terms]\n",
    "        return vectorizedQuery\n",
    "    \n",
    "    def cosineSimilarity(self, vect1, vect2):\n",
    "        norm1 = np.linalg.norm(vect1)\n",
    "        norm2 = np.linalg.norm(vect2)\n",
    "        dotP = np.dot(vect1, vect2)\n",
    "        #origin vector is equal to itself\n",
    "        if dotP == 0 and norm1 == 0 and norm2 == 0:\n",
    "            return 1\n",
    "        #origin vector is not equal to any vector but itself\n",
    "        if norm1 == 0 or norm2 == 0:\n",
    "            return 0\n",
    "        return np.dot(vect1, vect2) / (norm1 * norm2)\n",
    "    \n",
    "    def computeSimilarity(self, query):\n",
    "        if isinstance(query, str):\n",
    "            v_query = self.vectorizeStringQuery(query)\n",
    "        if isinstance(query, XmlQuery):\n",
    "            v_query = self.vectorizeXmlQuery(query)\n",
    "        simDict = {}\n",
    "        for id in self.space.keys():\n",
    "            v_space = self.space[id]\n",
    "            similarity = self.cosineSimilarity(v_space, v_query)\n",
    "            if similarity not in simDict:\n",
    "                simDict[similarity] = [id]\n",
    "            else:\n",
    "                simDict[similarity] += [id]\n",
    "        return simDict\n",
    "    \n",
    "    def getRank(self, query):\n",
    "        simDict = self.computeSimilarity(query)\n",
    "        relevance = sorted(list(simDict.keys()), reverse=True )#list of relevance results\n",
    "        rank = []\n",
    "        for r in relevance:\n",
    "            rank += simDict[r]\n",
    "        return rank, relevance\n",
    "    \n",
    "    #if \n",
    "    def getQueryResults(self, query, topNumber=5):\n",
    "        start = time.time()\n",
    "        rankedDocuments, relevance = self.getRank(query)\n",
    "        end = time.time()\n",
    "        \n",
    "        if isinstance(query, str):\n",
    "            queryText = query\n",
    "        if isinstance(query, XmlQuery):\n",
    "            queryText = query.title\n",
    "        \n",
    "        print(str(topNumber) + ' top results for ' + queryText + ' (' + str(round(end-start, 4)) + 's)')\n",
    "        for i in range(len(relevance[0:topNumber])):\n",
    "            if relevance[i] != 0:\n",
    "                print('Result: ' + rankedDocuments[i] + ', Relevance: ' + str(relevance[i]))\n",
    "        "
   ]
  },
  {
   "cell_type": "code",
   "execution_count": 24,
   "id": "2d394bb4",
   "metadata": {},
   "outputs": [
    {
     "name": "stdout",
     "output_type": "stream",
     "text": [
      "Vector Space Model Computed in 0.3968s\n"
     ]
    }
   ],
   "source": [
    "#Init vector space model\n",
    "vectorSpaceFile = 'vector-space-model.dictionary'\n",
    "computeVSM = False\n",
    "if computeVSM or not os.path.isfile(vectorSpaceFile):\n",
    "    start = time.time()\n",
    "    vsm = VectorSpaceModel(document_collection, query_collection, vectorSpaceFile)\n",
    "    end = time.time()\n",
    "    print('Vector Space Model Computed in ' + str(round(end - start, 4)) + 's')\n",
    "else:\n",
    "    start = time.time()\n",
    "    with open(vectorSpaceFile, 'rb') as dictionary_file:\n",
    "        vsm = pickle.load(dictionary_file) \n",
    "    end = time.time()\n",
    "    print('Vector Space Model Loaded in ' + str(round(end - start, 4)) + 's')"
   ]
  },
  {
   "cell_type": "code",
   "execution_count": 29,
   "id": "df375a60",
   "metadata": {},
   "outputs": [
    {
     "name": "stdout",
     "output_type": "stream",
     "text": [
      "5 top results for  Nixon ' s Death (0.1288s)\n",
      "Result: LA040394-0128, Relevance: 0.6734685813686927\n",
      "Result: LA051294-0091, Relevance: 0.653672348802548\n",
      "Result: LA011694-0272, Relevance: 0.4032136919584477\n",
      "Result: LA081494-0168, Relevance: 0.3367148501096677\n",
      "Result: LA102694-0137, Relevance: 0.2237793244667901\n",
      "5 top results for nixon death (0.0511s)\n",
      "Result: LA020194-0244, Relevance: 1\n"
     ]
    }
   ],
   "source": [
    "vsm.getQueryResults(query_collection.queries['10.2452/349-AH'], 100)"
   ]
  },
  {
   "cell_type": "code",
   "execution_count": 26,
   "id": "43393712",
   "metadata": {},
   "outputs": [],
   "source": [
    "#Produce output\n",
    "#document_collection.docs['GH951220-000145']"
   ]
  },
  {
   "cell_type": "code",
   "execution_count": null,
   "id": "941fc3db",
   "metadata": {},
   "outputs": [],
   "source": []
  }
 ],
 "metadata": {
  "kernelspec": {
   "display_name": "Python 3 (ipykernel)",
   "language": "python",
   "name": "python3"
  },
  "language_info": {
   "codemirror_mode": {
    "name": "ipython",
    "version": 3
   },
   "file_extension": ".py",
   "mimetype": "text/x-python",
   "name": "python",
   "nbconvert_exporter": "python",
   "pygments_lexer": "ipython3",
   "version": "3.7.3"
  }
 },
 "nbformat": 4,
 "nbformat_minor": 5
}
