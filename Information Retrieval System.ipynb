{
 "cells": [
  {
   "cell_type": "markdown",
   "id": "2cb534a5",
   "metadata": {},
   "source": [
    "<h2>Indexing the document collection</h2>"
   ]
  },
  {
   "cell_type": "markdown",
   "id": "453a7cce",
   "metadata": {},
   "source": [
    "<h3>Settings & utilities</h3>"
   ]
  },
  {
   "cell_type": "code",
   "execution_count": 1,
   "id": "7a21f59f",
   "metadata": {},
   "outputs": [],
   "source": [
    "#imports\n",
    "import xml.etree.ElementTree as ET\n",
    "import os\n",
    "import string\n",
    "import numpy as np\n",
    "from matplotlib import pyplot as plt\n",
    "import math\n",
    "import re    #RegEx\n",
    "import spacy #lemmatization\n",
    "from collections import OrderedDict\n",
    "import pickle #serialize object read/write files\n",
    "import time\n",
    "\n",
    "#Local import\n",
    "%run \"contraction.py\"\n",
    "\n",
    "#config\n",
    "%config InlineBackend.figure_format = 'retina'"
   ]
  },
  {
   "cell_type": "markdown",
   "id": "7e3eccdb",
   "metadata": {},
   "source": [
    "<h3>Utilities</h3>\n"
   ]
  },
  {
   "cell_type": "code",
   "execution_count": 2,
   "id": "478b65cf",
   "metadata": {},
   "outputs": [],
   "source": [
    "def divideList(list_in, percentage, seed):\n",
    "    if percentage < 0 or percentage > 1:\n",
    "        print('Percentage must be between 0 and 1')\n",
    "        return []\n",
    "    np.random.seed(seed)\n",
    "    idx = np.random.shuffle(list_in)\n",
    "    if percentage == 1:\n",
    "        return list_in\n",
    "    i = round(len(list_in) * percentage)\n",
    "    return list_in[0:i]\n",
    "\n",
    "#divideList([0,1,2,3,4,5,6,7,8,9], 0.7, 1)"
   ]
  },
  {
   "cell_type": "markdown",
   "id": "d1a2853e",
   "metadata": {},
   "source": [
    "<h3>Load stopwords</h2>"
   ]
  },
  {
   "cell_type": "code",
   "execution_count": 3,
   "id": "a0ef99c2",
   "metadata": {},
   "outputs": [],
   "source": [
    "#Load a stopword list NLTK\n",
    "gist_file = open(\"stopwords.txt\", \"r\")\n",
    "try:\n",
    "    content = gist_file.read()\n",
    "    stopwords = content.split(\",\")\n",
    "finally:\n",
    "    gist_file.close()"
   ]
  },
  {
   "cell_type": "markdown",
   "id": "e7fc7d6b",
   "metadata": {},
   "source": [
    "<h3>Load document collection</h3>"
   ]
  },
  {
   "cell_type": "code",
   "execution_count": 4,
   "id": "a68faeb8",
   "metadata": {},
   "outputs": [],
   "source": [
    "#path to the document collection\n",
    "collection_path = 'C:/Users/Stefano Marzo/Documents/DCU Master Dublin/05 Second semester modules/CA6005 Mechanics of search/01 Assignment/COLLECTION'\n",
    "\n",
    "def getDocumentList(path):\n",
    "    return os.listdir(path)\n",
    "    \n",
    "#generate document name list\n",
    "doc_list = getDocumentList(collection_path)"
   ]
  },
  {
   "cell_type": "markdown",
   "id": "d6f123fb",
   "metadata": {},
   "source": [
    "<h3>Load queries</h3>"
   ]
  },
  {
   "cell_type": "code",
   "execution_count": 5,
   "id": "0ab34d2e",
   "metadata": {},
   "outputs": [],
   "source": [
    "queries_path = 'C:/Users/Stefano Marzo/Documents/DCU Master Dublin/05 Second semester modules/CA6005 Mechanics of search/01 Assignment/topics'\n",
    "\n",
    "#generate query name list\n",
    "queries_list = getDocumentList(queries_path)"
   ]
  },
  {
   "cell_type": "markdown",
   "id": "d78759ae",
   "metadata": {},
   "source": [
    "<h3>Experiments:</h3>\n",
    "<h4>Vector space model</h4>\n",
    "<p>Three cases:</p>\n",
    "<ul>\n",
    "    <li>Case 0: Documents are indexed on HEADLINE</li>\n",
    "    <li>Case 1: Documents are indexed on TEXT</li>\n",
    "    <li>Case 2: Documents are indexed on concatenation of HEADLINE and TEXT</li>\n",
    "</ul>"
   ]
  },
  {
   "cell_type": "markdown",
   "id": "1d7d5697",
   "metadata": {},
   "source": [
    "<h3>Classes for handle XML documents and the Document Collection</h3>"
   ]
  },
  {
   "cell_type": "code",
   "execution_count": 6,
   "id": "2aeac326",
   "metadata": {},
   "outputs": [],
   "source": [
    "#relevant document tags \n",
    "DOCID = 'DOCID'\n",
    "HEADLINE = 'HEADLINE'\n",
    "TEXT = 'TEXT'\n",
    "\n",
    "class XmlDoc:\n",
    "    def __init__(self, xml):\n",
    "        tree = ET.parse(xml)\n",
    "        root = tree.getroot()\n",
    "        for id in root.iter(DOCID):\n",
    "            self.id = id.text if id.text is not None else ''\n",
    "        for h in root.iter(HEADLINE):\n",
    "            self.headline = h.text if h.text is not None else ''\n",
    "        for t in root.iter(TEXT):\n",
    "            self.text = t.text if t.text is not None else ''\n",
    "            \n",
    "        #self.processedText = processText(self.headline)                   #case: 0\n",
    "        #self.processedText = processText(self.text)                       #case: 1\n",
    "        self.processedText = processText(self.text + ' ' + self.headline) #case: 2\n",
    "\n",
    "        self.tfIndex = self.__getTF__()\n",
    "    \n",
    "    def getId(self):\n",
    "        return self.id\n",
    "    \n",
    "    def __getTF__(self):\n",
    "        #tf is on text, not headline\n",
    "        #tf has 2 possible implementations\n",
    "        #1. f/max_occurance of most frequent term\n",
    "        #2. f/number_different_terms or number_total_terms?\n",
    "        num_terms = len(self.processedText)\n",
    "        tfIndex = {}\n",
    "        for term in self.processedText:\n",
    "            if term not in tfIndex: #save some time\n",
    "                tfIndex[term] = self.processedText.count(term)/num_terms\n",
    "        return tfIndex\n",
    "\n",
    "class DocumentCollection:\n",
    "    def __init__(self, path, doc_list, fileName='document-collection.dictionary'):\n",
    "        self.__name__ = 'Document Collection'\n",
    "        \n",
    "        #List of XmlDoc object\n",
    "        self.docs = {}\n",
    "        for d in doc_list:\n",
    "            xmlDocument = XmlDoc(path + '/' + d)\n",
    "            self.docs[xmlDocument.id] = xmlDocument\n",
    "        \n",
    "        #Inverted index\n",
    "        self.inverted_index = {}\n",
    "        for id in self.docs.keys():\n",
    "            for term in self.docs[id].processedText:\n",
    "                if term in self.inverted_index:\n",
    "                    self.inverted_index[term].add(id)\n",
    "                else: self.inverted_index[term] = {id}\n",
    "        \n",
    "        #Table of IDF\n",
    "        self.idf = {}\n",
    "        for term in self.inverted_index.keys():\n",
    "            self.idf[term] = np.log(len(self.docs) / len(self.inverted_index[term]))\n",
    "        \n",
    "        with open(fileName, 'wb') as dictionary_file:\n",
    "            pickle.dump(self, dictionary_file)\n",
    "            \n",
    "    \n",
    "    def getRelevance(self, documentID, term):\n",
    "        try:\n",
    "            return self.docs[documentID].tfIndex[term] * self.idf[term]\n",
    "        except: \n",
    "            return 0\n"
   ]
  },
  {
   "cell_type": "markdown",
   "id": "3fcda5e8",
   "metadata": {},
   "source": [
    "<h3>Classes for handle XML queries and the Query Collection</h3>"
   ]
  },
  {
   "cell_type": "code",
   "execution_count": 7,
   "id": "41a6565a",
   "metadata": {},
   "outputs": [],
   "source": [
    "#relevant document tags \n",
    "QUERYID = 'QUERYID'\n",
    "TITLE = 'TITLE'\n",
    "DESC = 'DESC'\n",
    "\n",
    "class XmlQuery:\n",
    "    def __init__(self, xml):\n",
    "        tree = ET.parse(xml)\n",
    "        root = tree.getroot()\n",
    "        for id in root.iter(QUERYID):\n",
    "            self.id = id.text\n",
    "        for h in root.iter(TITLE):\n",
    "            self.title = h.text\n",
    "        for t in root.iter(DESC):\n",
    "            self.desc = t.text \n",
    "        self.processedText = processText(self.title)\n",
    "        self.tfIndex = self.__getTF__()\n",
    "        \n",
    "    def __getTF__(self):\n",
    "        #tf is on text, not headline\n",
    "        #tf has 2 possible implementations\n",
    "        #1. f/max_occurance of most frequent term\n",
    "        #2. f/number_different_terms or number_total_terms?\n",
    "        num_terms = len(self.processedText)\n",
    "        tfIndex = {}\n",
    "        for term in self.processedText:\n",
    "            if term not in tfIndex: #save some time\n",
    "                tfIndex[term] = self.processedText.count(term)/num_terms\n",
    "        return tfIndex\n",
    "\n",
    "class QueryCollection:\n",
    "    def __init__(self, path, query_list, fileName='query-collection.dictionary'):\n",
    "        #List of XmlDoc object\n",
    "        self.queries = {}\n",
    "        for d in query_list:\n",
    "            xmlQuery = XmlQuery(path + '/' + d)\n",
    "            self.queries[xmlQuery.id] = xmlQuery\n",
    "        \n",
    "        #Inverted index\n",
    "        self.inverted_index = {}\n",
    "        for id in self.queries.keys():\n",
    "            for term in self.queries[id].processedText:\n",
    "                if term in self.inverted_index:\n",
    "                    self.inverted_index[term].add(id)\n",
    "                else: self.inverted_index[term] = {id}\n",
    "        \n",
    "        #Table of IDF\n",
    "        self.idf = {}\n",
    "        for term in self.inverted_index.keys():\n",
    "            self.idf[term] = np.log(len(self.queries) / len(self.inverted_index[term]))\n",
    "        \n",
    "        with open(fileName, 'wb') as dictionary_file:\n",
    "            pickle.dump(self, dictionary_file)\n",
    "            \n",
    "    \n",
    "    def getRelevance(self, queryID, term):\n",
    "        try:\n",
    "            return self.queries[queryID].tfIndex[term] * self.idf[term]\n",
    "        except: \n",
    "            return 0\n",
    "    \n",
    "    \n",
    "            \n",
    "#xmlq = XmlQuery(queries_path + '/' + queries_list[0])\n",
    "#xmlq.title"
   ]
  },
  {
   "cell_type": "markdown",
   "id": "636f24fe",
   "metadata": {},
   "source": [
    "<h2>Processing text</h2>"
   ]
  },
  {
   "cell_type": "code",
   "execution_count": 8,
   "id": "55e7c11c",
   "metadata": {},
   "outputs": [],
   "source": [
    "#Process text to meet the IR requirements\n",
    "\n",
    "# Regular expression for finding contractions\n",
    "contractions_re=re.compile('(%s)' % '|'.join(contractions_dict.keys()))\n",
    "\n",
    "# Function for expanding contractions\n",
    "def expand_contractions(text,contractions_dict=contractions_dict):\n",
    "    def replace(match):\n",
    "        return contractions_dict[match.group(0)]\n",
    "    return contractions_re.sub(replace, text)\n",
    "\n",
    "# Lemmatization\n",
    "# https://www.analyticsvidhya.com/blog/2019/08\n",
    "#/how-to-remove-stopwords-text-normalization-nltk-spacy-gensim-python\n",
    "#/?utm_source=blog&utm_medium=information-retrieval-using-word2vec-based-vector-space-model\n",
    "nlp = spacy.load('en_core_web_sm',disable=['ner','parser'])\n",
    "nlp.max_length=5000000\n",
    "\n",
    "def lemmatize(x):\n",
    "    return ' '.join([token.lemma_ for token in list(nlp(x)) if (token.is_stop==False)])\n",
    "\n",
    "#Returns a list of relevant terms\n",
    "def processText(text):\n",
    "    #remove punctuation and stopwords\n",
    "    #remove single punctuation characters, remove points (not separated from string), lower case all \n",
    "    if not isinstance(text, str) :\n",
    "        return []\n",
    "    #lower the text\n",
    "    text = text.lower()\n",
    "    #expand contractions\n",
    "    text = expand_contractions(text)\n",
    "    #lemmatize\n",
    "    text = lemmatize(text)\n",
    "    return list(filter(lambda el: el not in string.punctuation \n",
    "                       and el not in stopwords, \n",
    "                       text.translate(str.maketrans('', '', '.')).split()))\n",
    "\n",
    "#processText('asked processed figuring the foundation')\n",
    "#processText(\"O'reilly's\")\n",
    "#processText(\"I'm Stefano\")"
   ]
  },
  {
   "cell_type": "markdown",
   "id": "1164573a",
   "metadata": {},
   "source": [
    "<h2>Create Document Collection and Query Collection objects</h2>"
   ]
  },
  {
   "cell_type": "code",
   "execution_count": 9,
   "id": "f4dea647",
   "metadata": {},
   "outputs": [
    {
     "name": "stdout",
     "output_type": "stream",
     "text": [
      "Document Collection Computed in 2040.8379s\n",
      "Query Collection Computed in 0.9476s\n"
     ]
    }
   ],
   "source": [
    "recomputeAll = False\n",
    "#seed for random number\n",
    "seed = 1\n",
    "\n",
    "#divide the document collection (get pd% of documents)\n",
    "pd = 1\n",
    "doc_list = divideList(doc_list, pd, seed)\n",
    "\n",
    "#divide the query collection (get pq% of documents)\n",
    "pq = 1\n",
    "queries_list = divideList(queries_list, pq, seed)\n",
    "\n",
    "#Compute or read document collection\n",
    "computeDocumentCollection = False or recomputeAll\n",
    "documentCollectionFileName = 'document-collection.dictionary'\n",
    "\n",
    "#create a Document collection object\n",
    "if computeDocumentCollection or not os.path.isfile(documentCollectionFileName):\n",
    "    start = time.time()\n",
    "    document_collection = DocumentCollection(collection_path, doc_list, documentCollectionFileName)\n",
    "    end = time.time()\n",
    "    print('Document Collection Computed in ' + str(round(end - start, 4)) + 's')\n",
    "else:\n",
    "    start = time.time()\n",
    "    with open(documentCollectionFileName, 'rb') as dictionary_file:\n",
    "        document_collection = pickle.load(dictionary_file) \n",
    "    end = time.time()\n",
    "    print('Document Collection Loaded in ' + str(round(end - start, 4)) + 's')\n",
    "\n",
    "#Compute or read query collection\n",
    "computeQueryCollection = False or recomputeAll\n",
    "queryCollectionFileName = 'query-collection.dictionary'\n",
    "\n",
    "#create a Query collection object\n",
    "if computeQueryCollection or not os.path.isfile(queryCollectionFileName):\n",
    "    start = time.time()\n",
    "    query_collection = QueryCollection(queries_path, queries_list, queryCollectionFileName)\n",
    "    end = time.time()\n",
    "    print('Query Collection Computed in ' + str(round(end - start, 4)) + 's')\n",
    "else:\n",
    "    start = time.time()\n",
    "    with open(queryCollectionFileName, 'rb') as dictionary_file:\n",
    "        query_collection = pickle.load(dictionary_file) \n",
    "    end = time.time()\n",
    "    print('Query Collection Loaded in ' + str(round(end - start, 4)) + 's')\n",
    "\n",
    "#pointer to inverted index\n",
    "inverted_index = document_collection.inverted_index"
   ]
  },
  {
   "cell_type": "markdown",
   "id": "94a64676",
   "metadata": {},
   "source": [
    "<h2>Heaps' law</h2>\n",
    "<h2>$M = kT^b$</h2>\n",
    "<p>where:</p>\n",
    "<ul>\n",
    "    <li>$M$ is the document length </li>\n",
    "    <li>$T$ is the number of distinct terms, i.e. <i>Token</i> </li>\n",
    "    <li>$k$ is a parameter s.t. $10 \\leq k \\leq 100$ </li>\n",
    "    <li>$b$ is a parameter s.t. $0.4 \\leq k \\leq 0.6$ </li>\n",
    "</ul>"
   ]
  },
  {
   "cell_type": "code",
   "execution_count": 10,
   "id": "d09aeead",
   "metadata": {},
   "outputs": [],
   "source": [
    "k = 18\n",
    "b = .6\n",
    "\n",
    "#heap function\n",
    "def heaps(k,T,b):\n",
    "    return np.power(T, b) * k"
   ]
  },
  {
   "cell_type": "code",
   "execution_count": 11,
   "id": "ee6384ea",
   "metadata": {},
   "outputs": [],
   "source": [
    "#documents data (limit to L documents)\n",
    "L = 20 #300 for final result\n",
    "word_list = []\n",
    "unique_words = []\n",
    "for doc in list(document_collection.docs.keys())[0:L]:\n",
    "    word_list += document_collection.docs[doc].processedText\n",
    "\n",
    "for i, w in enumerate(word_list):\n",
    "    unique_words += [len(set(word_list[0:i]))]"
   ]
  },
  {
   "cell_type": "code",
   "execution_count": 12,
   "id": "2a597901",
   "metadata": {},
   "outputs": [
    {
     "data": {
      "image/png": "[encoded data removed]",
      "text/plain": [
       "<Figure size 432x288 with 1 Axes>"
      ]
     },
     "metadata": {
      "image/png": {
       "height": 347,
       "width": 492
      },
      "needs_background": "light"
     },
     "output_type": "display_data"
    }
   ],
   "source": [
    "#plot\n",
    "x = np.linspace(0, len(word_list), 100)\n",
    "\n",
    "fig = plt.figure()\n",
    "ax = fig.add_axes([0,0,1,1])\n",
    "plt.plot(x, heaps(k, x, b), color='red', label='heap function')\n",
    "plt.plot(np.arange(len(unique_words)), unique_words, color='blue', label='computed')\n",
    "ax.set_xlabel('Unique words')\n",
    "ax.set_ylabel('Words count')\n",
    "ax.set_title('Heaps\\' law')\n",
    "plt.legend()\n",
    "plt.show()"
   ]
  },
  {
   "cell_type": "markdown",
   "id": "ea3caa0d",
   "metadata": {},
   "source": [
    "<h2>Zipf's law</h2>\n",
    "<h2>$f = \\frac{k}{r}$</h2>\n",
    "<p>where:</p>\n",
    "<ul>\n",
    "    <li>$f$ is the word frequency</li>\n",
    "    <li>$k$ is a parameter that change with the language (0.1 for english)</li>\n",
    "    <li>$r$ is the <i>rank</i> of the word</li>\n",
    "</ul>"
   ]
  },
  {
   "cell_type": "code",
   "execution_count": 13,
   "id": "8576e5ba",
   "metadata": {},
   "outputs": [],
   "source": [
    "#Zipf's formula\n",
    "kz = 1\n",
    "frequencies = []\n",
    "ranks = []\n",
    "tot_words = len(inverted_index)\n",
    "for word in inverted_index.keys():\n",
    "    frequencies += [len(inverted_index[word])]\n",
    "    ranks += [np.log(kz/frequencies[-1])]"
   ]
  },
  {
   "cell_type": "code",
   "execution_count": 14,
   "id": "e94eb42e",
   "metadata": {},
   "outputs": [
    {
     "data": {
      "image/png": "[encoded data removed]",
      "text/plain": [
       "<Figure size 432x288 with 1 Axes>"
      ]
     },
     "metadata": {
      "image/png": {
       "height": 347,
       "width": 498
      },
      "needs_background": "light"
     },
     "output_type": "display_data"
    }
   ],
   "source": [
    "#Plot\n",
    "fig = plt.figure()\n",
    "ax = fig.add_axes([0,0,1,1])\n",
    "plt.scatter(ranks, frequencies, color='blue')\n",
    "ax.set_xlabel('log(Rank)')\n",
    "ax.set_ylabel('Frequency')\n",
    "ax.set_title('Zipf\\'s law')\n",
    "plt.show()"
   ]
  },
  {
   "cell_type": "markdown",
   "id": "9a254c1b",
   "metadata": {},
   "source": [
    "<h2>Get most significant words</h2>\n",
    "<h3>Attempt #1: frequency density</h3>"
   ]
  },
  {
   "cell_type": "code",
   "execution_count": 15,
   "id": "f21a02ec",
   "metadata": {},
   "outputs": [
    {
     "data": {
      "text/plain": [
       "'\\nfor word in inverted_index.keys():\\n    if len(inverted_index[word]) > 300:\\n        print(word)\\n'"
      ]
     },
     "execution_count": 15,
     "metadata": {},
     "output_type": "execute_result"
    }
   ],
   "source": [
    "#try to get the most frequent terms in a significant way\n",
    "\n",
    "#Point density\n",
    "frequency_list = frequencies[:]\n",
    "frequency_list.sort()\n",
    "\n",
    "#radius = 2\n",
    "#precise but time expensive\n",
    "def getFrequencyDensity(frequency_list, radius):\n",
    "    frequency_density = []\n",
    "    for i in range(len(frequency_list)):\n",
    "        count = 0\n",
    "        lim_inf = frequency_list[i] - radius\n",
    "        lim_sup = frequency_list[i] + radius\n",
    "        j = i\n",
    "        while j >= 0 and frequency_list[j] >= lim_inf:\n",
    "            count += 1\n",
    "            j -= 1\n",
    "        j = i\n",
    "        while j < len(frequency_list) and frequency_list[j] <= lim_sup:\n",
    "            count += 1\n",
    "            j += 1\n",
    "        frequency_density += [count/(2*radius)]\n",
    "    return frequency_density\n",
    "\n",
    "#frequency_density = getFrequencyDensity(frequency_list, radius)\n",
    "\"\"\"\n",
    "for word in inverted_index.keys():\n",
    "    if len(inverted_index[word]) > 300:\n",
    "        print(word)\n",
    "\"\"\""
   ]
  },
  {
   "cell_type": "code",
   "execution_count": 16,
   "id": "050186e2",
   "metadata": {},
   "outputs": [
    {
     "data": {
      "text/plain": [
       "\"\\nfig = plt.figure()\\nax = fig.add_axes([0,0,1,1])\\nplt.scatter(np.arange(len(frequency_density)), frequency_density, color='blue')\\nax.set_xlabel('index')\\nax.set_ylabel('Frequency density')\\nax.set_title('Zipf's law')\\nplt.show()\\n\""
      ]
     },
     "execution_count": 16,
     "metadata": {},
     "output_type": "execute_result"
    }
   ],
   "source": [
    "#Plot the frequency density \n",
    "\"\"\"\n",
    "fig = plt.figure()\n",
    "ax = fig.add_axes([0,0,1,1])\n",
    "plt.scatter(np.arange(len(frequency_density)), frequency_density, color='blue')\n",
    "ax.set_xlabel('index')\n",
    "ax.set_ylabel('Frequency density')\n",
    "ax.set_title('Zipf\\'s law')\n",
    "plt.show()\n",
    "\"\"\""
   ]
  },
  {
   "cell_type": "markdown",
   "id": "10e171e0",
   "metadata": {},
   "source": [
    "<h2>Get most significant words</h2>\n",
    "<h3>Attempt #2: percentage</h3>"
   ]
  },
  {
   "cell_type": "code",
   "execution_count": 17,
   "id": "30c68c8f",
   "metadata": {},
   "outputs": [],
   "source": [
    "#get the most x% frequent terms\n",
    "percentage = .00005\n",
    "\n",
    "def getHighestValue(data, percentage):\n",
    "    data_size = len(frequency_list)\n",
    "    i = data_size * percentage\n",
    "    return data[-round(i)]\n",
    "\n",
    "\n",
    "#len(frequency_list)\n",
    "def printMostFrequentTerms(inverted_index, frequency_list, percentage):\n",
    "    for word in inverted_index.keys():\n",
    "        if len(inverted_index[word]) > getHighestValue(frequency_list, percentage):\n",
    "            print(word)\n",
    "\n",
    "#printMostFrequentTerms(inverted_index, frequency_list, percentage)"
   ]
  },
  {
   "cell_type": "code",
   "execution_count": 18,
   "id": "97c52737",
   "metadata": {},
   "outputs": [
    {
     "data": {
      "image/png": "[encoded data removed]",
      "text/plain": [
       "<Figure size 432x288 with 1 Axes>"
      ]
     },
     "metadata": {
      "image/png": {
       "height": 347,
       "width": 498
      },
      "needs_background": "light"
     },
     "output_type": "display_data"
    }
   ],
   "source": [
    "#plot the results\n",
    "fig = plt.figure()\n",
    "ax = fig.add_axes([0,0,1,1])\n",
    "plt.scatter(ranks, frequencies, color='blue')\n",
    "plt.axhline(y = getHighestValue(frequency_list, percentage), color = 'r', linestyle = '-')\n",
    "ax.set_xlabel('log(Rank)')\n",
    "ax.set_ylabel('Frequency')\n",
    "ax.set_title('Zipf\\'s law')\n",
    "plt.show()"
   ]
  },
  {
   "cell_type": "markdown",
   "id": "a20aa00d",
   "metadata": {},
   "source": [
    "<h2>Term frequency: $tf$</h2>\n",
    "<p>The occurencies of a term in a document divided by the total number of word in a document</p>\n",
    "<p>Normalized term frequency for a term $j$ in a document $i$</p>\n",
    "<h2>$tf_{ij} = \\frac{f_{ij}}{M}$</h2>\n",
    "<p>where $M$ is the number of different terms.</p>"
   ]
  },
  {
   "cell_type": "code",
   "execution_count": 19,
   "id": "d1d2a5d6",
   "metadata": {},
   "outputs": [],
   "source": [
    "#function\n",
    "def getTermFrequency(document):\n",
    "    doc = processText(readDocument(collection_path + '/' + document).text)\n",
    "    num_terms = len(doc)\n",
    "    tfIndex = {}\n",
    "    for term in doc:\n",
    "        tfIndex[term] = doc.count(term)/num_terms\n",
    "    return tfIndex\n",
    "#object\n",
    "#XmlDoc(collection_path + '/' + doc_list[0]).getTF()"
   ]
  },
  {
   "cell_type": "markdown",
   "id": "b53d081e",
   "metadata": {},
   "source": [
    "<h2>Inverse document frequency: $idf$</h2>\n",
    "<p>for a term $j$</p>\n",
    "<h2>$idf_{j} = log(\\frac{N}{df_j})$</h2>\n",
    "<p>where $N$ is the number of documents in the collection and $df_j$ is the number of documents that contain the term $j$.</p>"
   ]
  },
  {
   "cell_type": "code",
   "execution_count": 20,
   "id": "3b6b2ae9",
   "metadata": {},
   "outputs": [],
   "source": [
    "#Function\n",
    "def getInverseDocumentFrequency(inverted_index, N):\n",
    "    idf = {}\n",
    "    for term in inverted_index.keys():\n",
    "        idf[term] = np.log(N / len(inverted_index[term]))\n",
    "    return idf\n",
    "#getInverseDocumentFrequency(inverted_index, len(doc_list))\n",
    "\n",
    "#Class\n",
    "#document_collection.getIDF()"
   ]
  },
  {
   "cell_type": "markdown",
   "id": "1f918c3a",
   "metadata": {},
   "source": [
    "<h2>Balance exhaustivity $tf$ and specificity $idf$</h2>\n",
    "<p>Any term in the collection can be attributed to a level of relevance calculated as</p>\n",
    "<h2>$tf_{ij} \\times idf_{j}$</h2>"
   ]
  },
  {
   "cell_type": "code",
   "execution_count": 21,
   "id": "9c050b9e",
   "metadata": {},
   "outputs": [
    {
     "data": {
      "text/plain": [
       "0"
      ]
     },
     "execution_count": 21,
     "metadata": {},
     "output_type": "execute_result"
    }
   ],
   "source": [
    "document_collection.getRelevance(\n",
    "    document_collection.docs[list(document_collection.docs.keys())[0]].id, 'buckle')"
   ]
  },
  {
   "cell_type": "code",
   "execution_count": 22,
   "id": "cd5d4e6c",
   "metadata": {},
   "outputs": [],
   "source": [
    "#is istance of str, else []\n",
    "#lower\n",
    "#expand contractions\n",
    "#lemmatize\n",
    "#remove punctuation\n",
    "#remove stopwords\n",
    "#remove single points\n",
    "def getQueryVector(query):\n",
    "    q = processText(query.title)\n",
    "    qf = {}\n",
    "    for term in q:\n",
    "        if term not in qf:\n",
    "            qf[term] = 1\n",
    "        else:\n",
    "            qf[term] += 1\n",
    "    return qf\n",
    "\n",
    "\n",
    "def getRelatedDocument(document_collection, query):\n",
    "    s = set() #all document related with query\n",
    "    query = getQueryVector(query)\n",
    "    for term in query:\n",
    "        if term in document_collection.inverted_index:\n",
    "            s = s.union(set(document_collection.inverted_index[term]))\n",
    "    return s, query\n",
    "\n",
    "\n",
    "def getVectorSpace(document_collection, query):\n",
    "    docs, query = getRelatedDocument(document_collection, query)\n",
    "    space = {}\n",
    "    for d in docs:\n",
    "        space[d] = [document_collection.getRelevance(d, term) for term in query]\n",
    "    return space\n",
    "\n",
    "#getVectorSpace(document_collection, xmlq)\n",
    "#document_collection.inverted_index['kiesbauer']"
   ]
  },
  {
   "cell_type": "markdown",
   "id": "21feb291",
   "metadata": {},
   "source": [
    "<h2>Vector space model VSM</h2>"
   ]
  },
  {
   "cell_type": "code",
   "execution_count": 23,
   "id": "3a17c859",
   "metadata": {},
   "outputs": [],
   "source": [
    "class VectorSpaceModel:\n",
    "    def __init__(self, document_collection, query_collection, \n",
    "                 fileName = 'vector-space-model.dictionary', track_id = '1', run_id='VSM'):\n",
    "        self.document_collection = document_collection\n",
    "        self.query_collection = query_collection\n",
    "        self.unique_query_terms = set(query_collection.inverted_index.keys())\n",
    "        self.space = {}\n",
    "        self.track_id = track_id\n",
    "        self.run_id = run_id\n",
    "        for id in document_collection.docs.keys():\n",
    "            #for term in document_collection.docs[id].processedText:\n",
    "            self.space[id] = [document_collection.getRelevance(id, t) for t in self.unique_query_terms]\n",
    "        with open(fileName, 'wb') as dictionary_file:\n",
    "            pickle.dump(self, dictionary_file)\n",
    "    \n",
    "    def vectorizeXmlQuery(self, xmlQuery):\n",
    "        vectorizedQuery = [self.query_collection.getRelevance(xmlQuery.id, t) for t in self.unique_query_terms]\n",
    "        return vectorizedQuery\n",
    "    \n",
    "    #search based on unseen queries\n",
    "    def vectorizeStringQuery(self, strQuery):\n",
    "        strQuery = processText(strQuery)\n",
    "        #calculate tf\n",
    "        q_len = len(strQuery)\n",
    "        tfIndex = {}\n",
    "        for term in strQuery:\n",
    "            tfIndex[term] = strQuery.count(term)/q_len\n",
    "        #calculate relevance\n",
    "        q_relevance = {}\n",
    "        for term in strQuery:\n",
    "            try:\n",
    "                q_relevance[term] = tfIndex[term] * self.query_collection[term]\n",
    "            except:\n",
    "                q_relevance[term] = 0\n",
    "        vectorizedQuery = [q_relevance[t] if t in q_relevance else 0 for t in self.unique_query_terms]\n",
    "        return vectorizedQuery\n",
    "    \n",
    "    def cosineSimilarity(self, vect1, vect2):\n",
    "        norm1 = np.linalg.norm(vect1)\n",
    "        norm2 = np.linalg.norm(vect2)\n",
    "        dotP = np.dot(vect1, vect2)\n",
    "        #origin vector is equal to itself\n",
    "        if dotP == 0 and norm1 == 0 and norm2 == 0:\n",
    "            return 1\n",
    "        #origin vector is not equal to any vector but itself\n",
    "        if norm1 == 0 or norm2 == 0:\n",
    "            return 0\n",
    "        return np.dot(vect1, vect2) / (norm1 * norm2)\n",
    "    \n",
    "    def computeSimilarity(self, query):\n",
    "        if isinstance(query, str):\n",
    "            v_query = self.vectorizeStringQuery(query)\n",
    "        if isinstance(query, XmlQuery):\n",
    "            v_query = self.vectorizeXmlQuery(query)\n",
    "        simDict = {}\n",
    "        for id in self.space.keys():\n",
    "            v_space = self.space[id]\n",
    "            similarity = self.cosineSimilarity(v_space, v_query)\n",
    "            if similarity not in simDict:\n",
    "                simDict[similarity] = [id]\n",
    "            else:\n",
    "                simDict[similarity] += [id]\n",
    "        return simDict\n",
    "    \n",
    "    def getRank(self, query):\n",
    "        simDict = self.computeSimilarity(query)\n",
    "        relevance = sorted(list(simDict.keys()), reverse=True )#list of relevance results\n",
    "        rank = []\n",
    "        for r in relevance:\n",
    "            rank += simDict[r]\n",
    "        return rank, relevance\n",
    "    \n",
    "    \n",
    "    def getQueryResult(self, query, topNumber=500):\n",
    "        start = time.time()\n",
    "        rankedDocuments, relevance = self.getRank(query)\n",
    "        end = time.time()\n",
    "        \n",
    "        queryText = query.title\n",
    "        \n",
    "        print(str(topNumber) + ' top results for ' + queryText + ' (' + str(round(end-start, 4)) + 's)')\n",
    "        res = ''\n",
    "        for i in range(len(relevance[0:topNumber])):\n",
    "            if relevance[i] != 0:\n",
    "                res += query.id + ' ' + self.track_id + ' ' + rankedDocuments[i] + ' ' + str(i) + ' ' + str(relevance[i]) + ' ' + self.run_id + self.track_id + '\\n'\n",
    "        return res\n",
    "        "
   ]
  },
  {
   "cell_type": "code",
   "execution_count": 24,
   "id": "7af06cbf",
   "metadata": {},
   "outputs": [
    {
     "name": "stdout",
     "output_type": "stream",
     "text": [
      "Vector Space Model Computed in 15.9352s\n"
     ]
    }
   ],
   "source": [
    "#Init vector space model\n",
    "vectorSpaceFile = 'vector-space-model.dictionary'\n",
    "computeVSM = True or recomputeAll\n",
    "if computeVSM or not os.path.isfile(vectorSpaceFile):\n",
    "    start = time.time()\n",
    "    vsm = VectorSpaceModel(document_collection, query_collection, vectorSpaceFile)\n",
    "    end = time.time()\n",
    "    print('Vector Space Model Computed in ' + str(round(end - start, 4)) + 's')\n",
    "else:\n",
    "    start = time.time()\n",
    "    with open(vectorSpaceFile, 'rb') as dictionary_file:\n",
    "        vsm = pickle.load(dictionary_file) \n",
    "    end = time.time()\n",
    "    print('Vector Space Model Loaded in ' + str(round(end - start, 4)) + 's')"
   ]
  },
  {
   "cell_type": "code",
   "execution_count": 25,
   "id": "fe3f74cd",
   "metadata": {},
   "outputs": [
    {
     "name": "stdout",
     "output_type": "stream",
     "text": [
      "500 top results for  Dutch Photos of Srebrenica (5.6039s)\n",
      "500 top results for  German Spelling Reform (6.0713s)\n",
      "500 top results for  Nestlé Brands (5.5901s)\n",
      "500 top results for  Human Cloning and Ethics (5.5552s)\n",
      "500 top results for  Yann Piat ' s Assassination (5.6008s)\n",
      "500 top results for  Children ' s Rights (5.5788s)\n",
      "500 top results for  Oil Prices (5.8949s)\n",
      "500 top results for  Shoemaker-Levy and Jupiter (5.6187s)\n",
      "500 top results for  Shooting of Tupac Shakur (5.6031s)\n",
      "500 top results for  Risks with Mobile Phones (5.6372s)\n",
      "500 top results for  Treaty Ratification (5.6673s)\n",
      "500 top results for  Oil Price Fluctuation (5.6697s)\n",
      "500 top results for  Prison Abuse (5.6428s)\n",
      "500 top results for  Scotch Production Consumption (5.6238s)\n",
      "500 top results for  Earthquakes in Mexico_City (5.6554s)\n",
      "500 top results for  Discrimination against European Gypsies (5.6642s)\n",
      "500 top results for  Nuclear Power_Stations (5.5515s)\n",
      "500 top results for  Czech President ' s Background (5.6013s)\n",
      "500 top results for  EU Agricultural Subsidies (5.6407s)\n",
      "500 top results for  Nixon ' s Death (5.6232s)\n",
      "500 top results for  China-Taiwan Relations (5.6655s)\n",
      "500 top results for  Official EU Languages (5.6301s)\n",
      "500 top results for  Bankruptcy of Barings (5.6435s)\n",
      "500 top results for  Dog Attacks (5.5242s)\n",
      "500 top results for  Football Injuries (5.574s)\n",
      "500 top results for  Strikes by Italian Flight Assistants (5.6808s)\n",
      "500 top results for  Fast Food in Japan (5.5887s)\n",
      "500 top results for  Civil War in the Yemen (5.7362s)\n",
      "500 top results for  James Bond Films (5.6075s)\n",
      "500 top results for  Wimbledon Lady Winners (5.5965s)\n",
      "500 top results for  1995 Athletics World_Records (5.5998s)\n",
      "500 top results for  Italian Royal_Family (5.6747s)\n",
      "500 top results for  French Nuclear Tests (5.7449s)\n",
      "500 top results for  Space Shuttle Missions (5.7324s)\n",
      "500 top results for  EU Illegal Immigrants (5.5602s)\n",
      "500 top results for  Asian Dinosaur Remains (5.7059s)\n",
      "500 top results for  The Talibans in Afghanistan (5.6094s)\n",
      "500 top results for  Russian TV Director Murder (5.6185s)\n",
      "500 top results for  Crime in New York (5.6626s)\n",
      "500 top results for  Election of George W . Bush (5.6731s)\n",
      "500 top results for  Smoking-related Diseases (5.6823s)\n",
      "500 top results for  Bavarian Crucifix Quarrel (5.7957s)\n",
      "500 top results for  Flooding_in Holland and Germany (5.689s)\n",
      "500 top results for  Smuggling of Radioactive Material (5.7334s)\n",
      "500 top results for  Consumer Boycotts (5.5801s)\n",
      "500 top results for  Ethnic Cleansing in the Balkans (5.6988s)\n",
      "500 top results for  Theft of \" The Scream \" (5.7565s)\n",
      "500 top results for  Olympic Games and Peace (6.5811s)\n",
      "500 top results for  Ebola Epidemic in Zaire (5.7516s)\n",
      "500 top results for  Public Performances of Liszt (5.7137s)\n",
      "500 top results for  Advent of the CD-Burner (5.7299s)\n",
      "500 top results for  Dayton Peace_Treaty (5.7519s)\n",
      "500 top results for  Solar Eclipse (5.7458s)\n",
      "500 top results for  UN Peacekeeping Risks (5.8271s)\n",
      "500 top results for  Soccer Riots in Dublin (5.7686s)\n",
      "500 top results for  Cross-country_Skiing at the Olympic Games . (5.7865s)\n",
      "500 top results for  Swiss referendums (5.705s)\n",
      "500 top results for  Free Speech on the Internet (5.7498s)\n",
      "500 top results for  Films Set_in Scotland (5.713s)\n",
      "500 top results for  North_Sea Oil Environment (5.6265s)\n",
      "500 top results for  Hubble and Black_Holes (5.7175s)\n",
      "500 top results for  Anti-abortion Movements (5.6946s)\n",
      "500 top results for  Japanese Rice Imports (5.6229s)\n",
      "500 top results for  Dutch Coalition Government (5.6627s)\n",
      "500 top results for  Anti-Smoking Legislation (5.7436s)\n",
      "500 top results for  Milk Consumption in Europe (5.7008s)\n",
      "500 top results for  Grand_Slam Winners (5.7681s)\n",
      "500 top results for  Sinn Fein and the Anglo-Irish Declaration (5.7512s)\n",
      "500 top results for  ETA Activities in France (5.7147s)\n",
      "500 top results for  Hurricane Force (5.7301s)\n",
      "500 top results for  Centenary Celebrations (5.7315s)\n",
      "500 top results for  Women ' s Conference Beijing (5.7331s)\n",
      "500 top results for  Endangered Species (5.7164s)\n",
      "500 top results for  World Heritage Sites (6.0716s)\n",
      "500 top results for  Oil Accidents and Birds (5.904s)\n",
      "500 top results for  Letter Bomb for Kiesbauer (5.7573s)\n",
      "500 top results for  South_African National Party (5.9102s)\n",
      "500 top results for  Creutzfeldt-Jakob Disease (5.6829s)\n",
      "500 top results for  Merger of Japanese Banks (5.7137s)\n",
      "500 top results for  Money Laundering (5.6215s)\n",
      "500 top results for  Radovan Karadzic (5.619s)\n",
      "500 top results for  Nuclear Transport in Germany (5.7355s)\n",
      "500 top results for  Countries with Death_Penalty (5.6519s)\n",
      "500 top results for  Deutsche Bank Takeovers (5.7192s)\n",
      "500 top results for  Strikes (5.6523s)\n",
      "500 top results for  Carlos ' Extradition and Trial (5.6307s)\n",
      "500 top results for  Italian paintings (5.7786s)\n",
      "500 top results for  US Cars Import (5.6808s)\n",
      "500 top results for  Wonders of Ancient World (5.7137s)\n",
      "500 top results for  Everglades Environmental Damage (5.8044s)\n",
      "500 top results for  Proof of Top_Quarks (5.6803s)\n",
      "500 top results for  Energy Crises (5.6487s)\n",
      "500 top results for  Resignation of NATO Secretary_General (5.6707s)\n",
      "500 top results for  Unexploded World_War_II Bombs (5.646s)\n",
      "500 top results for  Unemployment in Europe (5.7007s)\n",
      "500 top results for  Ayrton Senna ' s Death . (5.8314s)\n",
      "500 top results for  Assassination of Rabin (5.6623s)\n",
      "500 top results for  European Drug Sentences (5.6725s)\n",
      "500 top results for  Brain-Drain Impact (5.7389s)\n",
      "500 top results for  AI against Death_Penalty (5.7751s)\n",
      "500 top results for  Student Fees (5.7843s)\n",
      "500 top results for  Expulsion of Diplomats (5.8043s)\n",
      "500 top results for  Global Opium Production (5.7657s)\n",
      "500 top results for  NBA Labour Conflicts (5.7756s)\n",
      "500 top results for  Transport for Disabled (5.7804s)\n",
      "500 top results for  Falkland Islands (5.7869s)\n",
      "500 top results for  New Quebec Premier (5.7733s)\n",
      "500 top results for  \" Hard \" Drugs (5.7933s)\n",
      "500 top results for  Internet Junkies (5.7338s)\n",
      "500 top results for  Trade_Unions in Europe (5.6959s)\n",
      "500 top results for  NATO Expansion (5.7134s)\n",
      "500 top results for  50th Anniversary of Normandy Landings (5.7143s)\n",
      "500 top results for  Lottery Winnings (5.6256s)\n",
      "500 top results for  Gay Marriages (5.6769s)\n",
      "500 top results for  EU and Baltic Countries (5.6891s)\n",
      "500 top results for  China-Mongolia Relations (5.6699s)\n",
      "500 top results for  Best Foreign Language Films (5.7878s)\n",
      "500 top results for  Maternity Leave in Europe (5.6442s)\n",
      "500 top results for  Hubble Telescope Achievements (5.602s)\n",
      "500 top results for  Golden Globes 1994 (5.7065s)\n",
      "500 top results for  Brazil vs . Sweden World Cup Semifinals (5.7168s)\n",
      "500 top results for  Doping in Sports (5.7274s)\n",
      "500 top results for  Supermodels (5.6152s)\n",
      "500 top results for  Child Labor in Asia (5.739s)\n",
      "500 top results for  EU and Turkish Customs (5.8288s)\n",
      "500 top results for  Fortune-telling (5.7697s)\n",
      "500 top results for  Sierra_Leone Rebellion and Diamonds (5.7184s)\n",
      "500 top results for  Four Weddings and a Funeral (5.7388s)\n",
      "500 top results for  Lillehammer Ice_Hockey Finals (5.7262s)\n",
      "500 top results for  Treatment of Industrial Waste (5.7034s)\n",
      "500 top results for  Endangered Species ( Mammals ) (5.7263s)\n",
      "500 top results for  Pope ' s Visit in Sri Lanka (5.715s)\n",
      "500 top results for  Alternative_Medicine (5.6983s)\n",
      "500 top results for  Anti-cancer Drugs (5.727s)\n",
      "500 top results for  Christo wraps German Reichstag (5.7448s)\n",
      "500 top results for  Honorary Oscar for Italian Directors (5.6673s)\n",
      "500 top results for  Smoking Restrictions (5.6706s)\n",
      "500 top results for  Pension Schemes in Europe (5.7532s)\n",
      "500 top results for  Earthquake Damage (5.6756s)\n",
      "500 top results for  Damages in Ozone_Layer (5.6884s)\n",
      "500 top results for  Best Picture Oscar 1994 (5.747s)\n",
      "500 top results for  Films with Keanu Reeves (5.7036s)\n",
      "500 top results for  Euthanasia by Medics (5.6524s)\n",
      "500 top results for  Hostage / Terrorist Situations (5.6948s)\n",
      "500 top results for  Golden Bear (5.7378s)\n",
      "500 top results for  Ebro Delta Farming (5.7053s)\n",
      "500 top results for  Zedillo ' s Economic Policies (5.744s)\n",
      "500 top results for  Iraqi Kurds and Turkey (5.7805s)\n",
      "500 top results for  Labour after John Smith (5.7655s)\n",
      "500 top results for  Rebuilding German Cities (5.7577s)\n"
     ]
    },
    {
     "name": "stdout",
     "output_type": "stream",
     "text": [
      "500 top results for  Diets for Celiacs (5.6681s)\n",
      "500 top results for  French General and Balkan Security Zone (5.6991s)\n",
      "500 top results for  Tightening Visa Requirements (5.7404s)\n",
      "500 top results for  Benefit_Concerts (5.688s)\n",
      "500 top results for  Sex Education (5.6675s)\n",
      "500 top results for  Trial of Paul Touvier (5.6381s)\n",
      "500 top results for  Microsoft Competitors (5.6261s)\n",
      "500 top results for  Atomic Energy (5.6107s)\n",
      "500 top results for  Emmy International Awards (5.7157s)\n",
      "500 top results for  Football Refereeing Disputes (5.5894s)\n",
      "500 top results for  Consequences if Charles and Diana Divorce (5.6805s)\n",
      "500 top results for  Military_Service Denial (5.6049s)\n"
     ]
    }
   ],
   "source": [
    "#vsm.track_id = '0'\n",
    "#vsm.track_id = '1'\n",
    "vsm.track_id = '2'\n",
    "\n",
    "#print(vsm.getQueryResult(query_collection.queries['10.2452/141-AH']))\n",
    "out_path = 'IR_output/'\n",
    "generateVSMReport = True\n",
    "# generate output file for VSM\n",
    "if generateVSMReport:\n",
    "    vsmFile = open(out_path + vsm.run_id + vsm.track_id + \".out\", \"w\")\n",
    "    for q in query_collection.queries.keys():\n",
    "        vsmFile.write(vsm.getQueryResult(query_collection.queries[q]))\n",
    "    vsmFile.close()"
   ]
  },
  {
   "cell_type": "code",
   "execution_count": null,
   "id": "3c5bc12d",
   "metadata": {},
   "outputs": [],
   "source": []
  },
  {
   "cell_type": "code",
   "execution_count": null,
   "id": "d0825ec5",
   "metadata": {},
   "outputs": [],
   "source": []
  }
 ],
 "metadata": {
  "kernelspec": {
   "display_name": "Python 3 (ipykernel)",
   "language": "python",
   "name": "python3"
  },
  "language_info": {
   "codemirror_mode": {
    "name": "ipython",
    "version": 3
   },
   "file_extension": ".py",
   "mimetype": "text/x-python",
   "name": "python",
   "nbconvert_exporter": "python",
   "pygments_lexer": "ipython3",
   "version": "3.7.3"
  }
 },
 "nbformat": 4,
 "nbformat_minor": 5
}
